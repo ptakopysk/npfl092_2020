{
  "nbformat": 4,
  "nbformat_minor": 0,
  "metadata": {
    "colab": {
      "name": "python_intro.ipynb",
      "provenance": [],
      "collapsed_sections": [],
      "authorship_tag": "ABX9TyNr3OdEQ/mTVhZeaRDhhtK0",
      "include_colab_link": true
    },
    "kernelspec": {
      "name": "python3",
      "display_name": "Python 3"
    }
  },
  "cells": [
    {
      "cell_type": "markdown",
      "metadata": {
        "id": "view-in-github",
        "colab_type": "text"
      },
      "source": [
        "<a href=\"https://colab.research.google.com/github/ptakopysk/npfl092_2020/blob/main/python_intro.ipynb\" target=\"_parent\"><img src=\"https://colab.research.google.com/assets/colab-badge.svg\" alt=\"Open In Colab\"/></a>"
      ]
    },
    {
      "cell_type": "code",
      "metadata": {
        "id": "x-TfJlNyd5Yd",
        "outputId": "3d2588d9-8a89-44ee-87d1-b734c0b82aef",
        "colab": {
          "base_uri": "https://localhost:8080/"
        }
      },
      "source": [
        "print('hello')"
      ],
      "execution_count": 1,
      "outputs": [
        {
          "output_type": "stream",
          "text": [
            "hello\n"
          ],
          "name": "stdout"
        }
      ]
    },
    {
      "cell_type": "code",
      "metadata": {
        "id": "HLXmVl0id81r",
        "outputId": "b962d9a0-630c-4302-ada3-40959bc1cae9",
        "colab": {
          "base_uri": "https://localhost:8080/"
        }
      },
      "source": [
        "print(2+5)\n",
        "print(5+5)"
      ],
      "execution_count": 4,
      "outputs": [
        {
          "output_type": "stream",
          "text": [
            "7\n",
            "10\n"
          ],
          "name": "stdout"
        }
      ]
    },
    {
      "cell_type": "code",
      "metadata": {
        "id": "kJnNFK8vjhiK"
      },
      "source": [
        "import nltk"
      ],
      "execution_count": 5,
      "outputs": []
    },
    {
      "cell_type": "code",
      "metadata": {
        "id": "fb5RLmilk9Fy"
      },
      "source": [
        "genesis = \"In the beginning God created the heavens and the earth. And the earth was without form, and void; and darkness was upon the face of the deep. And the Spirit of God moved upon the face of the waters. And God said, Let there be light: and there was light. And God saw the light, that it was good: and God divided the light from the darkness. And God called the light Day, and the darkness he called Night. And the evening and the morning were the first day. And God said, Let there be a firmament in the midst of the waters, and let it divide the waters from the waters. And God made the firmament, and divided the waters which were under the firmament from the waters which were above the firmament: and it was so. And God called the firmament Heaven. And the evening and the morning were the second day. And God said, Let the waters under the heaven be gathered together unto one place, and let the dry land appear: and it was so. And God called the dry land Earth; and the gathering together of the waters called he Seas: and God saw that it was good. And God said, Let the earth bring forth grass, the herb yielding seed, and the fruit tree yielding fruit after his kind, whose seed is in itself, upon the earth: and it was so. And the earth brought forth grass, and herb yielding seed after his kind, and the tree yielding fruit, whose seed was in itself, after his kind: and God saw that it was good. And the evening and the morning were the third day. And God said, Let there be lights in the firmament of the heaven to divide the day from the night; and let them be for signs, and for seasons, and for days, and years: And let them be for lights in the firmament of the heaven to give light upon the earth: and it was so. And God made two great lights; the greater light to rule the day, and the lesser light to rule the night: he made the stars also. And God set them in the firmament of the heaven to give light upon the earth, And to rule over the day and over the night, and to divide the light from the darkness: and God saw that it was good. And the evening and the morning were the fourth day. And God said, Let the waters bring forth abundantly the moving creature that hath life, and fowl that may fly above the earth in the open firmament of heaven. And God created great whales, and every living creature that moveth, which the waters brought forth abundantly, after their kind, and every winged fowl after his kind: and God saw that it was good. And God blessed them, saying, Be fruitful, and multiply, and fill the waters in the seas, and let fowl multiply in the earth. And the evening and the morning were the fifth day. And God said, Let the earth bring forth the living creature after his kind, cattle, and creeping thing, and beast of the earth after his kind: and it was so. And God made the beast of the earth after his kind, and cattle after their kind, and every thing that creepeth upon the earth after his kind: and God saw that it was good. And God said, Let us make man in our image, after our likeness: and let them have dominion over the fish of the sea, and over the fowl of the air, and over the cattle, and over all the earth, and over every creeping thing that creepeth upon the earth. So God created man in his own image, in the image of God created he him; male and female created he them. And God blessed them, and God said unto them, Be fruitful, and multiply, and replenish the earth, and subdue it: and have dominion over the fish of the sea, and over the fowl of the air, and over every living thing that moveth upon the earth. And God said, Behold, I have given you every herb bearing seed, which is upon the face of all the earth, and every tree, in the which is the fruit of a tree yielding seed; to you it shall be for meat. And to every beast of the earth, and to every fowl of the air, and to every thing that creepeth upon the earth, wherein there is life, I have given every green herb for meat: and it was so. And God saw every thing that he had made, and, behold, it was very good. And the evening and the morning were the sixth day.\"\n"
      ],
      "execution_count": 6,
      "outputs": []
    },
    {
      "cell_type": "code",
      "metadata": {
        "id": "3AtH7oS2mV8i",
        "outputId": "2d30b88a-183e-48b7-a86e-27024019497f",
        "colab": {
          "base_uri": "https://localhost:8080/"
        }
      },
      "source": [
        "print(genesis)"
      ],
      "execution_count": 7,
      "outputs": [
        {
          "output_type": "stream",
          "text": [
            "In the beginning God created the heavens and the earth. And the earth was without form, and void; and darkness was upon the face of the deep. And the Spirit of God moved upon the face of the waters. And God said, Let there be light: and there was light. And God saw the light, that it was good: and God divided the light from the darkness. And God called the light Day, and the darkness he called Night. And the evening and the morning were the first day. And God said, Let there be a firmament in the midst of the waters, and let it divide the waters from the waters. And God made the firmament, and divided the waters which were under the firmament from the waters which were above the firmament: and it was so. And God called the firmament Heaven. And the evening and the morning were the second day. And God said, Let the waters under the heaven be gathered together unto one place, and let the dry land appear: and it was so. And God called the dry land Earth; and the gathering together of the waters called he Seas: and God saw that it was good. And God said, Let the earth bring forth grass, the herb yielding seed, and the fruit tree yielding fruit after his kind, whose seed is in itself, upon the earth: and it was so. And the earth brought forth grass, and herb yielding seed after his kind, and the tree yielding fruit, whose seed was in itself, after his kind: and God saw that it was good. And the evening and the morning were the third day. And God said, Let there be lights in the firmament of the heaven to divide the day from the night; and let them be for signs, and for seasons, and for days, and years: And let them be for lights in the firmament of the heaven to give light upon the earth: and it was so. And God made two great lights; the greater light to rule the day, and the lesser light to rule the night: he made the stars also. And God set them in the firmament of the heaven to give light upon the earth, And to rule over the day and over the night, and to divide the light from the darkness: and God saw that it was good. And the evening and the morning were the fourth day. And God said, Let the waters bring forth abundantly the moving creature that hath life, and fowl that may fly above the earth in the open firmament of heaven. And God created great whales, and every living creature that moveth, which the waters brought forth abundantly, after their kind, and every winged fowl after his kind: and God saw that it was good. And God blessed them, saying, Be fruitful, and multiply, and fill the waters in the seas, and let fowl multiply in the earth. And the evening and the morning were the fifth day. And God said, Let the earth bring forth the living creature after his kind, cattle, and creeping thing, and beast of the earth after his kind: and it was so. And God made the beast of the earth after his kind, and cattle after their kind, and every thing that creepeth upon the earth after his kind: and God saw that it was good. And God said, Let us make man in our image, after our likeness: and let them have dominion over the fish of the sea, and over the fowl of the air, and over the cattle, and over all the earth, and over every creeping thing that creepeth upon the earth. So God created man in his own image, in the image of God created he him; male and female created he them. And God blessed them, and God said unto them, Be fruitful, and multiply, and replenish the earth, and subdue it: and have dominion over the fish of the sea, and over the fowl of the air, and over every living thing that moveth upon the earth. And God said, Behold, I have given you every herb bearing seed, which is upon the face of all the earth, and every tree, in the which is the fruit of a tree yielding seed; to you it shall be for meat. And to every beast of the earth, and to every fowl of the air, and to every thing that creepeth upon the earth, wherein there is life, I have given every green herb for meat: and it was so. And God saw every thing that he had made, and, behold, it was very good. And the evening and the morning were the sixth day.\n"
          ],
          "name": "stdout"
        }
      ]
    },
    {
      "cell_type": "code",
      "metadata": {
        "id": "nHnC4rDymY6-",
        "outputId": "68d2bfbc-1443-4ee1-8655-56b760a9f9bb",
        "colab": {
          "base_uri": "https://localhost:8080/"
        }
      },
      "source": [
        "print(genesis[0])"
      ],
      "execution_count": 8,
      "outputs": [
        {
          "output_type": "stream",
          "text": [
            "I\n"
          ],
          "name": "stdout"
        }
      ]
    },
    {
      "cell_type": "code",
      "metadata": {
        "id": "gopzaD-8mp0P",
        "outputId": "06227c8f-b4d6-426b-999d-18d930edf60e",
        "colab": {
          "base_uri": "https://localhost:8080/",
          "height": 35
        }
      },
      "source": [
        "genesis[-10:]"
      ],
      "execution_count": 21,
      "outputs": [
        {
          "output_type": "execute_result",
          "data": {
            "application/vnd.google.colaboratory.intrinsic+json": {
              "type": "string"
            },
            "text/plain": [
              "'sixth day.'"
            ]
          },
          "metadata": {
            "tags": []
          },
          "execution_count": 21
        }
      ]
    },
    {
      "cell_type": "code",
      "metadata": {
        "id": "LZ_6BRchmfX0",
        "outputId": "a7714e30-7019-4fbf-b564-c7c0befe768f",
        "colab": {
          "base_uri": "https://localhost:8080/"
        }
      },
      "source": [
        "len(genesis)"
      ],
      "execution_count": 22,
      "outputs": [
        {
          "output_type": "execute_result",
          "data": {
            "text/plain": [
              "4088"
            ]
          },
          "metadata": {
            "tags": []
          },
          "execution_count": 22
        }
      ]
    },
    {
      "cell_type": "code",
      "metadata": {
        "id": "8v4Sc2d1mkAy",
        "outputId": "fb58e1f2-e56b-4d25-cae7-251c995a8ae3",
        "colab": {
          "base_uri": "https://localhost:8080/",
          "height": 35
        }
      },
      "source": [
        "genesis[4078:4088]"
      ],
      "execution_count": 24,
      "outputs": [
        {
          "output_type": "execute_result",
          "data": {
            "application/vnd.google.colaboratory.intrinsic+json": {
              "type": "string"
            },
            "text/plain": [
              "'sixth day.'"
            ]
          },
          "metadata": {
            "tags": []
          },
          "execution_count": 24
        }
      ]
    },
    {
      "cell_type": "code",
      "metadata": {
        "id": "k9kAk2qemlZh",
        "outputId": "9c8f51bc-093f-4bef-900b-202222259da5",
        "colab": {
          "base_uri": "https://localhost:8080/",
          "height": 35
        }
      },
      "source": [
        "genesis[3]"
      ],
      "execution_count": 11,
      "outputs": [
        {
          "output_type": "execute_result",
          "data": {
            "application/vnd.google.colaboratory.intrinsic+json": {
              "type": "string"
            },
            "text/plain": [
              "'t'"
            ]
          },
          "metadata": {
            "tags": []
          },
          "execution_count": 11
        }
      ]
    },
    {
      "cell_type": "code",
      "metadata": {
        "id": "dDO766QKmmlR",
        "outputId": "bd713622-8c66-420a-ae6f-0ba6db7e9f95",
        "colab": {
          "base_uri": "https://localhost:8080/",
          "height": 177
        }
      },
      "source": [
        "genesis"
      ],
      "execution_count": 25,
      "outputs": [
        {
          "output_type": "execute_result",
          "data": {
            "application/vnd.google.colaboratory.intrinsic+json": {
              "type": "string"
            },
            "text/plain": [
              "'In the beginning God created the heavens and the earth. And the earth was without form, and void; and darkness was upon the face of the deep. And the Spirit of God moved upon the face of the waters. And God said, Let there be light: and there was light. And God saw the light, that it was good: and God divided the light from the darkness. And God called the light Day, and the darkness he called Night. And the evening and the morning were the first day. And God said, Let there be a firmament in the midst of the waters, and let it divide the waters from the waters. And God made the firmament, and divided the waters which were under the firmament from the waters which were above the firmament: and it was so. And God called the firmament Heaven. And the evening and the morning were the second day. And God said, Let the waters under the heaven be gathered together unto one place, and let the dry land appear: and it was so. And God called the dry land Earth; and the gathering together of the waters called he Seas: and God saw that it was good. And God said, Let the earth bring forth grass, the herb yielding seed, and the fruit tree yielding fruit after his kind, whose seed is in itself, upon the earth: and it was so. And the earth brought forth grass, and herb yielding seed after his kind, and the tree yielding fruit, whose seed was in itself, after his kind: and God saw that it was good. And the evening and the morning were the third day. And God said, Let there be lights in the firmament of the heaven to divide the day from the night; and let them be for signs, and for seasons, and for days, and years: And let them be for lights in the firmament of the heaven to give light upon the earth: and it was so. And God made two great lights; the greater light to rule the day, and the lesser light to rule the night: he made the stars also. And God set them in the firmament of the heaven to give light upon the earth, And to rule over the day and over the night, and to divide the light from the darkness: and God saw that it was good. And the evening and the morning were the fourth day. And God said, Let the waters bring forth abundantly the moving creature that hath life, and fowl that may fly above the earth in the open firmament of heaven. And God created great whales, and every living creature that moveth, which the waters brought forth abundantly, after their kind, and every winged fowl after his kind: and God saw that it was good. And God blessed them, saying, Be fruitful, and multiply, and fill the waters in the seas, and let fowl multiply in the earth. And the evening and the morning were the fifth day. And God said, Let the earth bring forth the living creature after his kind, cattle, and creeping thing, and beast of the earth after his kind: and it was so. And God made the beast of the earth after his kind, and cattle after their kind, and every thing that creepeth upon the earth after his kind: and God saw that it was good. And God said, Let us make man in our image, after our likeness: and let them have dominion over the fish of the sea, and over the fowl of the air, and over the cattle, and over all the earth, and over every creeping thing that creepeth upon the earth. So God created man in his own image, in the image of God created he him; male and female created he them. And God blessed them, and God said unto them, Be fruitful, and multiply, and replenish the earth, and subdue it: and have dominion over the fish of the sea, and over the fowl of the air, and over every living thing that moveth upon the earth. And God said, Behold, I have given you every herb bearing seed, which is upon the face of all the earth, and every tree, in the which is the fruit of a tree yielding seed; to you it shall be for meat. And to every beast of the earth, and to every fowl of the air, and to every thing that creepeth upon the earth, wherein there is life, I have given every green herb for meat: and it was so. And God saw every thing that he had made, and, behold, it was very good. And the evening and the morning were the sixth day.'"
            ]
          },
          "metadata": {
            "tags": []
          },
          "execution_count": 25
        }
      ]
    },
    {
      "cell_type": "code",
      "metadata": {
        "id": "jzN2wBJ0p4CT"
      },
      "source": [
        "tokens = genesis.split()"
      ],
      "execution_count": 27,
      "outputs": []
    },
    {
      "cell_type": "code",
      "metadata": {
        "id": "LjcAK6hwrrvd",
        "outputId": "05bfd879-de1c-4b72-9b76-6cbab5b3060b",
        "colab": {
          "base_uri": "https://localhost:8080/"
        }
      },
      "source": [
        "genesis.split('God')"
      ],
      "execution_count": 47,
      "outputs": [
        {
          "output_type": "execute_result",
          "data": {
            "text/plain": [
              "['In the beginning ',\n",
              " ' created the heavens and the earth. And the earth was without form, and void; and darkness was upon the face of the deep. And the Spirit of ',\n",
              " ' moved upon the face of the waters. And ',\n",
              " ' said, Let there be light: and there was light. And ',\n",
              " ' saw the light, that it was good: and ',\n",
              " ' divided the light from the darkness. And ',\n",
              " ' called the light Day, and the darkness he called Night. And the evening and the morning were the first day. And ',\n",
              " ' said, Let there be a firmament in the midst of the waters, and let it divide the waters from the waters. And ',\n",
              " ' made the firmament, and divided the waters which were under the firmament from the waters which were above the firmament: and it was so. And ',\n",
              " ' called the firmament Heaven. And the evening and the morning were the second day. And ',\n",
              " ' said, Let the waters under the heaven be gathered together unto one place, and let the dry land appear: and it was so. And ',\n",
              " ' called the dry land Earth; and the gathering together of the waters called he Seas: and ',\n",
              " ' saw that it was good. And ',\n",
              " ' said, Let the earth bring forth grass, the herb yielding seed, and the fruit tree yielding fruit after his kind, whose seed is in itself, upon the earth: and it was so. And the earth brought forth grass, and herb yielding seed after his kind, and the tree yielding fruit, whose seed was in itself, after his kind: and ',\n",
              " ' saw that it was good. And the evening and the morning were the third day. And ',\n",
              " ' said, Let there be lights in the firmament of the heaven to divide the day from the night; and let them be for signs, and for seasons, and for days, and years: And let them be for lights in the firmament of the heaven to give light upon the earth: and it was so. And ',\n",
              " ' made two great lights; the greater light to rule the day, and the lesser light to rule the night: he made the stars also. And ',\n",
              " ' set them in the firmament of the heaven to give light upon the earth, And to rule over the day and over the night, and to divide the light from the darkness: and ',\n",
              " ' saw that it was good. And the evening and the morning were the fourth day. And ',\n",
              " ' said, Let the waters bring forth abundantly the moving creature that hath life, and fowl that may fly above the earth in the open firmament of heaven. And ',\n",
              " ' created great whales, and every living creature that moveth, which the waters brought forth abundantly, after their kind, and every winged fowl after his kind: and ',\n",
              " ' saw that it was good. And ',\n",
              " ' blessed them, saying, Be fruitful, and multiply, and fill the waters in the seas, and let fowl multiply in the earth. And the evening and the morning were the fifth day. And ',\n",
              " ' said, Let the earth bring forth the living creature after his kind, cattle, and creeping thing, and beast of the earth after his kind: and it was so. And ',\n",
              " ' made the beast of the earth after his kind, and cattle after their kind, and every thing that creepeth upon the earth after his kind: and ',\n",
              " ' saw that it was good. And ',\n",
              " ' said, Let us make man in our image, after our likeness: and let them have dominion over the fish of the sea, and over the fowl of the air, and over the cattle, and over all the earth, and over every creeping thing that creepeth upon the earth. So ',\n",
              " ' created man in his own image, in the image of ',\n",
              " ' created he him; male and female created he them. And ',\n",
              " ' blessed them, and ',\n",
              " ' said unto them, Be fruitful, and multiply, and replenish the earth, and subdue it: and have dominion over the fish of the sea, and over the fowl of the air, and over every living thing that moveth upon the earth. And ',\n",
              " ' said, Behold, I have given you every herb bearing seed, which is upon the face of all the earth, and every tree, in the which is the fruit of a tree yielding seed; to you it shall be for meat. And to every beast of the earth, and to every fowl of the air, and to every thing that creepeth upon the earth, wherein there is life, I have given every green herb for meat: and it was so. And ',\n",
              " ' saw every thing that he had made, and, behold, it was very good. And the evening and the morning were the sixth day.']"
            ]
          },
          "metadata": {
            "tags": []
          },
          "execution_count": 47
        }
      ]
    },
    {
      "cell_type": "code",
      "metadata": {
        "id": "CV3JXwXHryfq"
      },
      "source": [
        "?str.split"
      ],
      "execution_count": 48,
      "outputs": []
    },
    {
      "cell_type": "code",
      "metadata": {
        "id": "iEukb78Ira9V",
        "outputId": "4ad02dd5-1233-4ebf-8b3c-192b8f957f52",
        "colab": {
          "base_uri": "https://localhost:8080/"
        }
      },
      "source": [
        "genesis.split('. ')"
      ],
      "execution_count": 46,
      "outputs": [
        {
          "output_type": "execute_result",
          "data": {
            "text/plain": [
              "['In the beginning God created the heavens and the earth',\n",
              " 'And the earth was without form, and void; and darkness was upon the face of the deep',\n",
              " 'And the Spirit of God moved upon the face of the waters',\n",
              " 'And God said, Let there be light: and there was light',\n",
              " 'And God saw the light, that it was good: and God divided the light from the darkness',\n",
              " 'And God called the light Day, and the darkness he called Night',\n",
              " 'And the evening and the morning were the first day',\n",
              " 'And God said, Let there be a firmament in the midst of the waters, and let it divide the waters from the waters',\n",
              " 'And God made the firmament, and divided the waters which were under the firmament from the waters which were above the firmament: and it was so',\n",
              " 'And God called the firmament Heaven',\n",
              " 'And the evening and the morning were the second day',\n",
              " 'And God said, Let the waters under the heaven be gathered together unto one place, and let the dry land appear: and it was so',\n",
              " 'And God called the dry land Earth; and the gathering together of the waters called he Seas: and God saw that it was good',\n",
              " 'And God said, Let the earth bring forth grass, the herb yielding seed, and the fruit tree yielding fruit after his kind, whose seed is in itself, upon the earth: and it was so',\n",
              " 'And the earth brought forth grass, and herb yielding seed after his kind, and the tree yielding fruit, whose seed was in itself, after his kind: and God saw that it was good',\n",
              " 'And the evening and the morning were the third day',\n",
              " 'And God said, Let there be lights in the firmament of the heaven to divide the day from the night; and let them be for signs, and for seasons, and for days, and years: And let them be for lights in the firmament of the heaven to give light upon the earth: and it was so',\n",
              " 'And God made two great lights; the greater light to rule the day, and the lesser light to rule the night: he made the stars also',\n",
              " 'And God set them in the firmament of the heaven to give light upon the earth, And to rule over the day and over the night, and to divide the light from the darkness: and God saw that it was good',\n",
              " 'And the evening and the morning were the fourth day',\n",
              " 'And God said, Let the waters bring forth abundantly the moving creature that hath life, and fowl that may fly above the earth in the open firmament of heaven',\n",
              " 'And God created great whales, and every living creature that moveth, which the waters brought forth abundantly, after their kind, and every winged fowl after his kind: and God saw that it was good',\n",
              " 'And God blessed them, saying, Be fruitful, and multiply, and fill the waters in the seas, and let fowl multiply in the earth',\n",
              " 'And the evening and the morning were the fifth day',\n",
              " 'And God said, Let the earth bring forth the living creature after his kind, cattle, and creeping thing, and beast of the earth after his kind: and it was so',\n",
              " 'And God made the beast of the earth after his kind, and cattle after their kind, and every thing that creepeth upon the earth after his kind: and God saw that it was good',\n",
              " 'And God said, Let us make man in our image, after our likeness: and let them have dominion over the fish of the sea, and over the fowl of the air, and over the cattle, and over all the earth, and over every creeping thing that creepeth upon the earth',\n",
              " 'So God created man in his own image, in the image of God created he him; male and female created he them',\n",
              " 'And God blessed them, and God said unto them, Be fruitful, and multiply, and replenish the earth, and subdue it: and have dominion over the fish of the sea, and over the fowl of the air, and over every living thing that moveth upon the earth',\n",
              " 'And God said, Behold, I have given you every herb bearing seed, which is upon the face of all the earth, and every tree, in the which is the fruit of a tree yielding seed; to you it shall be for meat',\n",
              " 'And to every beast of the earth, and to every fowl of the air, and to every thing that creepeth upon the earth, wherein there is life, I have given every green herb for meat: and it was so',\n",
              " 'And God saw every thing that he had made, and, behold, it was very good',\n",
              " 'And the evening and the morning were the sixth day.']"
            ]
          },
          "metadata": {
            "tags": []
          },
          "execution_count": 46
        }
      ]
    },
    {
      "cell_type": "code",
      "metadata": {
        "id": "AgbseahWp8mP",
        "outputId": "3c65f2a3-4aee-48cb-fab9-a44aedb0f344",
        "colab": {
          "base_uri": "https://localhost:8080/"
        }
      },
      "source": [
        "print(tokens)"
      ],
      "execution_count": 28,
      "outputs": [
        {
          "output_type": "stream",
          "text": [
            "['In', 'the', 'beginning', 'God', 'created', 'the', 'heavens', 'and', 'the', 'earth.', 'And', 'the', 'earth', 'was', 'without', 'form,', 'and', 'void;', 'and', 'darkness', 'was', 'upon', 'the', 'face', 'of', 'the', 'deep.', 'And', 'the', 'Spirit', 'of', 'God', 'moved', 'upon', 'the', 'face', 'of', 'the', 'waters.', 'And', 'God', 'said,', 'Let', 'there', 'be', 'light:', 'and', 'there', 'was', 'light.', 'And', 'God', 'saw', 'the', 'light,', 'that', 'it', 'was', 'good:', 'and', 'God', 'divided', 'the', 'light', 'from', 'the', 'darkness.', 'And', 'God', 'called', 'the', 'light', 'Day,', 'and', 'the', 'darkness', 'he', 'called', 'Night.', 'And', 'the', 'evening', 'and', 'the', 'morning', 'were', 'the', 'first', 'day.', 'And', 'God', 'said,', 'Let', 'there', 'be', 'a', 'firmament', 'in', 'the', 'midst', 'of', 'the', 'waters,', 'and', 'let', 'it', 'divide', 'the', 'waters', 'from', 'the', 'waters.', 'And', 'God', 'made', 'the', 'firmament,', 'and', 'divided', 'the', 'waters', 'which', 'were', 'under', 'the', 'firmament', 'from', 'the', 'waters', 'which', 'were', 'above', 'the', 'firmament:', 'and', 'it', 'was', 'so.', 'And', 'God', 'called', 'the', 'firmament', 'Heaven.', 'And', 'the', 'evening', 'and', 'the', 'morning', 'were', 'the', 'second', 'day.', 'And', 'God', 'said,', 'Let', 'the', 'waters', 'under', 'the', 'heaven', 'be', 'gathered', 'together', 'unto', 'one', 'place,', 'and', 'let', 'the', 'dry', 'land', 'appear:', 'and', 'it', 'was', 'so.', 'And', 'God', 'called', 'the', 'dry', 'land', 'Earth;', 'and', 'the', 'gathering', 'together', 'of', 'the', 'waters', 'called', 'he', 'Seas:', 'and', 'God', 'saw', 'that', 'it', 'was', 'good.', 'And', 'God', 'said,', 'Let', 'the', 'earth', 'bring', 'forth', 'grass,', 'the', 'herb', 'yielding', 'seed,', 'and', 'the', 'fruit', 'tree', 'yielding', 'fruit', 'after', 'his', 'kind,', 'whose', 'seed', 'is', 'in', 'itself,', 'upon', 'the', 'earth:', 'and', 'it', 'was', 'so.', 'And', 'the', 'earth', 'brought', 'forth', 'grass,', 'and', 'herb', 'yielding', 'seed', 'after', 'his', 'kind,', 'and', 'the', 'tree', 'yielding', 'fruit,', 'whose', 'seed', 'was', 'in', 'itself,', 'after', 'his', 'kind:', 'and', 'God', 'saw', 'that', 'it', 'was', 'good.', 'And', 'the', 'evening', 'and', 'the', 'morning', 'were', 'the', 'third', 'day.', 'And', 'God', 'said,', 'Let', 'there', 'be', 'lights', 'in', 'the', 'firmament', 'of', 'the', 'heaven', 'to', 'divide', 'the', 'day', 'from', 'the', 'night;', 'and', 'let', 'them', 'be', 'for', 'signs,', 'and', 'for', 'seasons,', 'and', 'for', 'days,', 'and', 'years:', 'And', 'let', 'them', 'be', 'for', 'lights', 'in', 'the', 'firmament', 'of', 'the', 'heaven', 'to', 'give', 'light', 'upon', 'the', 'earth:', 'and', 'it', 'was', 'so.', 'And', 'God', 'made', 'two', 'great', 'lights;', 'the', 'greater', 'light', 'to', 'rule', 'the', 'day,', 'and', 'the', 'lesser', 'light', 'to', 'rule', 'the', 'night:', 'he', 'made', 'the', 'stars', 'also.', 'And', 'God', 'set', 'them', 'in', 'the', 'firmament', 'of', 'the', 'heaven', 'to', 'give', 'light', 'upon', 'the', 'earth,', 'And', 'to', 'rule', 'over', 'the', 'day', 'and', 'over', 'the', 'night,', 'and', 'to', 'divide', 'the', 'light', 'from', 'the', 'darkness:', 'and', 'God', 'saw', 'that', 'it', 'was', 'good.', 'And', 'the', 'evening', 'and', 'the', 'morning', 'were', 'the', 'fourth', 'day.', 'And', 'God', 'said,', 'Let', 'the', 'waters', 'bring', 'forth', 'abundantly', 'the', 'moving', 'creature', 'that', 'hath', 'life,', 'and', 'fowl', 'that', 'may', 'fly', 'above', 'the', 'earth', 'in', 'the', 'open', 'firmament', 'of', 'heaven.', 'And', 'God', 'created', 'great', 'whales,', 'and', 'every', 'living', 'creature', 'that', 'moveth,', 'which', 'the', 'waters', 'brought', 'forth', 'abundantly,', 'after', 'their', 'kind,', 'and', 'every', 'winged', 'fowl', 'after', 'his', 'kind:', 'and', 'God', 'saw', 'that', 'it', 'was', 'good.', 'And', 'God', 'blessed', 'them,', 'saying,', 'Be', 'fruitful,', 'and', 'multiply,', 'and', 'fill', 'the', 'waters', 'in', 'the', 'seas,', 'and', 'let', 'fowl', 'multiply', 'in', 'the', 'earth.', 'And', 'the', 'evening', 'and', 'the', 'morning', 'were', 'the', 'fifth', 'day.', 'And', 'God', 'said,', 'Let', 'the', 'earth', 'bring', 'forth', 'the', 'living', 'creature', 'after', 'his', 'kind,', 'cattle,', 'and', 'creeping', 'thing,', 'and', 'beast', 'of', 'the', 'earth', 'after', 'his', 'kind:', 'and', 'it', 'was', 'so.', 'And', 'God', 'made', 'the', 'beast', 'of', 'the', 'earth', 'after', 'his', 'kind,', 'and', 'cattle', 'after', 'their', 'kind,', 'and', 'every', 'thing', 'that', 'creepeth', 'upon', 'the', 'earth', 'after', 'his', 'kind:', 'and', 'God', 'saw', 'that', 'it', 'was', 'good.', 'And', 'God', 'said,', 'Let', 'us', 'make', 'man', 'in', 'our', 'image,', 'after', 'our', 'likeness:', 'and', 'let', 'them', 'have', 'dominion', 'over', 'the', 'fish', 'of', 'the', 'sea,', 'and', 'over', 'the', 'fowl', 'of', 'the', 'air,', 'and', 'over', 'the', 'cattle,', 'and', 'over', 'all', 'the', 'earth,', 'and', 'over', 'every', 'creeping', 'thing', 'that', 'creepeth', 'upon', 'the', 'earth.', 'So', 'God', 'created', 'man', 'in', 'his', 'own', 'image,', 'in', 'the', 'image', 'of', 'God', 'created', 'he', 'him;', 'male', 'and', 'female', 'created', 'he', 'them.', 'And', 'God', 'blessed', 'them,', 'and', 'God', 'said', 'unto', 'them,', 'Be', 'fruitful,', 'and', 'multiply,', 'and', 'replenish', 'the', 'earth,', 'and', 'subdue', 'it:', 'and', 'have', 'dominion', 'over', 'the', 'fish', 'of', 'the', 'sea,', 'and', 'over', 'the', 'fowl', 'of', 'the', 'air,', 'and', 'over', 'every', 'living', 'thing', 'that', 'moveth', 'upon', 'the', 'earth.', 'And', 'God', 'said,', 'Behold,', 'I', 'have', 'given', 'you', 'every', 'herb', 'bearing', 'seed,', 'which', 'is', 'upon', 'the', 'face', 'of', 'all', 'the', 'earth,', 'and', 'every', 'tree,', 'in', 'the', 'which', 'is', 'the', 'fruit', 'of', 'a', 'tree', 'yielding', 'seed;', 'to', 'you', 'it', 'shall', 'be', 'for', 'meat.', 'And', 'to', 'every', 'beast', 'of', 'the', 'earth,', 'and', 'to', 'every', 'fowl', 'of', 'the', 'air,', 'and', 'to', 'every', 'thing', 'that', 'creepeth', 'upon', 'the', 'earth,', 'wherein', 'there', 'is', 'life,', 'I', 'have', 'given', 'every', 'green', 'herb', 'for', 'meat:', 'and', 'it', 'was', 'so.', 'And', 'God', 'saw', 'every', 'thing', 'that', 'he', 'had', 'made,', 'and,', 'behold,', 'it', 'was', 'very', 'good.', 'And', 'the', 'evening', 'and', 'the', 'morning', 'were', 'the', 'sixth', 'day.']\n"
          ],
          "name": "stdout"
        }
      ]
    },
    {
      "cell_type": "code",
      "metadata": {
        "id": "xurzetUnqOsr",
        "outputId": "f73c9bb4-2b5e-40cc-a911-0b822f16a923",
        "colab": {
          "base_uri": "https://localhost:8080/"
        }
      },
      "source": [
        "tokens[-10:]"
      ],
      "execution_count": 39,
      "outputs": [
        {
          "output_type": "execute_result",
          "data": {
            "text/plain": [
              "['And',\n",
              " 'the',\n",
              " 'evening',\n",
              " 'and',\n",
              " 'the',\n",
              " 'morning',\n",
              " 'were',\n",
              " 'the',\n",
              " 'sixth',\n",
              " 'day.']"
            ]
          },
          "metadata": {
            "tags": []
          },
          "execution_count": 39
        }
      ]
    },
    {
      "cell_type": "code",
      "metadata": {
        "id": "jYHsJPemrAn7",
        "outputId": "0618299f-f1b0-4db8-f291-b5e86a6187d3",
        "colab": {
          "base_uri": "https://localhost:8080/"
        }
      },
      "source": [
        "len(tokens[-10:])"
      ],
      "execution_count": 41,
      "outputs": [
        {
          "output_type": "execute_result",
          "data": {
            "text/plain": [
              "10"
            ]
          },
          "metadata": {
            "tags": []
          },
          "execution_count": 41
        }
      ]
    },
    {
      "cell_type": "code",
      "metadata": {
        "id": "2gUvqdbMqgKC",
        "outputId": "8421bbe7-d597-464d-93cc-f2a1fbe3107a",
        "colab": {
          "base_uri": "https://localhost:8080/",
          "height": 35
        }
      },
      "source": [
        "genesis[-10:]"
      ],
      "execution_count": 37,
      "outputs": [
        {
          "output_type": "execute_result",
          "data": {
            "application/vnd.google.colaboratory.intrinsic+json": {
              "type": "string"
            },
            "text/plain": [
              "'sixth day.'"
            ]
          },
          "metadata": {
            "tags": []
          },
          "execution_count": 37
        }
      ]
    },
    {
      "cell_type": "code",
      "metadata": {
        "id": "JosqS_D1qinI",
        "outputId": "40293299-4a41-4e0e-c456-032c2d946c09",
        "colab": {
          "base_uri": "https://localhost:8080/"
        }
      },
      "source": [
        "len(genesis[-10:])"
      ],
      "execution_count": 38,
      "outputs": [
        {
          "output_type": "execute_result",
          "data": {
            "text/plain": [
              "10"
            ]
          },
          "metadata": {
            "tags": []
          },
          "execution_count": 38
        }
      ]
    },
    {
      "cell_type": "code",
      "metadata": {
        "id": "6FqemqThq9TT"
      },
      "source": [
        "mylist = [\"apple\", \"pear\", \"cherry\"]"
      ],
      "execution_count": 42,
      "outputs": []
    },
    {
      "cell_type": "code",
      "metadata": {
        "id": "2xjbThyLrPi8",
        "outputId": "ef3f42c2-2d5d-4701-8f83-9b84252c7ad0",
        "colab": {
          "base_uri": "https://localhost:8080/"
        }
      },
      "source": [
        "mylist"
      ],
      "execution_count": 43,
      "outputs": [
        {
          "output_type": "execute_result",
          "data": {
            "text/plain": [
              "['apple', 'pear', 'cherry']"
            ]
          },
          "metadata": {
            "tags": []
          },
          "execution_count": 43
        }
      ]
    },
    {
      "cell_type": "code",
      "metadata": {
        "id": "x9l6cKtnrQeS",
        "outputId": "6d138ecb-03ac-448b-991d-301d1947ab0a",
        "colab": {
          "base_uri": "https://localhost:8080/",
          "height": 35
        }
      },
      "source": [
        "mylist[1]"
      ],
      "execution_count": 44,
      "outputs": [
        {
          "output_type": "execute_result",
          "data": {
            "application/vnd.google.colaboratory.intrinsic+json": {
              "type": "string"
            },
            "text/plain": [
              "'pear'"
            ]
          },
          "metadata": {
            "tags": []
          },
          "execution_count": 44
        }
      ]
    },
    {
      "cell_type": "code",
      "metadata": {
        "id": "zx_u2Ps_rSDI",
        "outputId": "6cacc0b0-4c70-4bc5-f344-aa3754bab438",
        "colab": {
          "base_uri": "https://localhost:8080/"
        }
      },
      "source": [
        "tokens"
      ],
      "execution_count": 49,
      "outputs": [
        {
          "output_type": "execute_result",
          "data": {
            "text/plain": [
              "['In',\n",
              " 'the',\n",
              " 'beginning',\n",
              " 'God',\n",
              " 'created',\n",
              " 'the',\n",
              " 'heavens',\n",
              " 'and',\n",
              " 'the',\n",
              " 'earth.',\n",
              " 'And',\n",
              " 'the',\n",
              " 'earth',\n",
              " 'was',\n",
              " 'without',\n",
              " 'form,',\n",
              " 'and',\n",
              " 'void;',\n",
              " 'and',\n",
              " 'darkness',\n",
              " 'was',\n",
              " 'upon',\n",
              " 'the',\n",
              " 'face',\n",
              " 'of',\n",
              " 'the',\n",
              " 'deep.',\n",
              " 'And',\n",
              " 'the',\n",
              " 'Spirit',\n",
              " 'of',\n",
              " 'God',\n",
              " 'moved',\n",
              " 'upon',\n",
              " 'the',\n",
              " 'face',\n",
              " 'of',\n",
              " 'the',\n",
              " 'waters.',\n",
              " 'And',\n",
              " 'God',\n",
              " 'said,',\n",
              " 'Let',\n",
              " 'there',\n",
              " 'be',\n",
              " 'light:',\n",
              " 'and',\n",
              " 'there',\n",
              " 'was',\n",
              " 'light.',\n",
              " 'And',\n",
              " 'God',\n",
              " 'saw',\n",
              " 'the',\n",
              " 'light,',\n",
              " 'that',\n",
              " 'it',\n",
              " 'was',\n",
              " 'good:',\n",
              " 'and',\n",
              " 'God',\n",
              " 'divided',\n",
              " 'the',\n",
              " 'light',\n",
              " 'from',\n",
              " 'the',\n",
              " 'darkness.',\n",
              " 'And',\n",
              " 'God',\n",
              " 'called',\n",
              " 'the',\n",
              " 'light',\n",
              " 'Day,',\n",
              " 'and',\n",
              " 'the',\n",
              " 'darkness',\n",
              " 'he',\n",
              " 'called',\n",
              " 'Night.',\n",
              " 'And',\n",
              " 'the',\n",
              " 'evening',\n",
              " 'and',\n",
              " 'the',\n",
              " 'morning',\n",
              " 'were',\n",
              " 'the',\n",
              " 'first',\n",
              " 'day.',\n",
              " 'And',\n",
              " 'God',\n",
              " 'said,',\n",
              " 'Let',\n",
              " 'there',\n",
              " 'be',\n",
              " 'a',\n",
              " 'firmament',\n",
              " 'in',\n",
              " 'the',\n",
              " 'midst',\n",
              " 'of',\n",
              " 'the',\n",
              " 'waters,',\n",
              " 'and',\n",
              " 'let',\n",
              " 'it',\n",
              " 'divide',\n",
              " 'the',\n",
              " 'waters',\n",
              " 'from',\n",
              " 'the',\n",
              " 'waters.',\n",
              " 'And',\n",
              " 'God',\n",
              " 'made',\n",
              " 'the',\n",
              " 'firmament,',\n",
              " 'and',\n",
              " 'divided',\n",
              " 'the',\n",
              " 'waters',\n",
              " 'which',\n",
              " 'were',\n",
              " 'under',\n",
              " 'the',\n",
              " 'firmament',\n",
              " 'from',\n",
              " 'the',\n",
              " 'waters',\n",
              " 'which',\n",
              " 'were',\n",
              " 'above',\n",
              " 'the',\n",
              " 'firmament:',\n",
              " 'and',\n",
              " 'it',\n",
              " 'was',\n",
              " 'so.',\n",
              " 'And',\n",
              " 'God',\n",
              " 'called',\n",
              " 'the',\n",
              " 'firmament',\n",
              " 'Heaven.',\n",
              " 'And',\n",
              " 'the',\n",
              " 'evening',\n",
              " 'and',\n",
              " 'the',\n",
              " 'morning',\n",
              " 'were',\n",
              " 'the',\n",
              " 'second',\n",
              " 'day.',\n",
              " 'And',\n",
              " 'God',\n",
              " 'said,',\n",
              " 'Let',\n",
              " 'the',\n",
              " 'waters',\n",
              " 'under',\n",
              " 'the',\n",
              " 'heaven',\n",
              " 'be',\n",
              " 'gathered',\n",
              " 'together',\n",
              " 'unto',\n",
              " 'one',\n",
              " 'place,',\n",
              " 'and',\n",
              " 'let',\n",
              " 'the',\n",
              " 'dry',\n",
              " 'land',\n",
              " 'appear:',\n",
              " 'and',\n",
              " 'it',\n",
              " 'was',\n",
              " 'so.',\n",
              " 'And',\n",
              " 'God',\n",
              " 'called',\n",
              " 'the',\n",
              " 'dry',\n",
              " 'land',\n",
              " 'Earth;',\n",
              " 'and',\n",
              " 'the',\n",
              " 'gathering',\n",
              " 'together',\n",
              " 'of',\n",
              " 'the',\n",
              " 'waters',\n",
              " 'called',\n",
              " 'he',\n",
              " 'Seas:',\n",
              " 'and',\n",
              " 'God',\n",
              " 'saw',\n",
              " 'that',\n",
              " 'it',\n",
              " 'was',\n",
              " 'good.',\n",
              " 'And',\n",
              " 'God',\n",
              " 'said,',\n",
              " 'Let',\n",
              " 'the',\n",
              " 'earth',\n",
              " 'bring',\n",
              " 'forth',\n",
              " 'grass,',\n",
              " 'the',\n",
              " 'herb',\n",
              " 'yielding',\n",
              " 'seed,',\n",
              " 'and',\n",
              " 'the',\n",
              " 'fruit',\n",
              " 'tree',\n",
              " 'yielding',\n",
              " 'fruit',\n",
              " 'after',\n",
              " 'his',\n",
              " 'kind,',\n",
              " 'whose',\n",
              " 'seed',\n",
              " 'is',\n",
              " 'in',\n",
              " 'itself,',\n",
              " 'upon',\n",
              " 'the',\n",
              " 'earth:',\n",
              " 'and',\n",
              " 'it',\n",
              " 'was',\n",
              " 'so.',\n",
              " 'And',\n",
              " 'the',\n",
              " 'earth',\n",
              " 'brought',\n",
              " 'forth',\n",
              " 'grass,',\n",
              " 'and',\n",
              " 'herb',\n",
              " 'yielding',\n",
              " 'seed',\n",
              " 'after',\n",
              " 'his',\n",
              " 'kind,',\n",
              " 'and',\n",
              " 'the',\n",
              " 'tree',\n",
              " 'yielding',\n",
              " 'fruit,',\n",
              " 'whose',\n",
              " 'seed',\n",
              " 'was',\n",
              " 'in',\n",
              " 'itself,',\n",
              " 'after',\n",
              " 'his',\n",
              " 'kind:',\n",
              " 'and',\n",
              " 'God',\n",
              " 'saw',\n",
              " 'that',\n",
              " 'it',\n",
              " 'was',\n",
              " 'good.',\n",
              " 'And',\n",
              " 'the',\n",
              " 'evening',\n",
              " 'and',\n",
              " 'the',\n",
              " 'morning',\n",
              " 'were',\n",
              " 'the',\n",
              " 'third',\n",
              " 'day.',\n",
              " 'And',\n",
              " 'God',\n",
              " 'said,',\n",
              " 'Let',\n",
              " 'there',\n",
              " 'be',\n",
              " 'lights',\n",
              " 'in',\n",
              " 'the',\n",
              " 'firmament',\n",
              " 'of',\n",
              " 'the',\n",
              " 'heaven',\n",
              " 'to',\n",
              " 'divide',\n",
              " 'the',\n",
              " 'day',\n",
              " 'from',\n",
              " 'the',\n",
              " 'night;',\n",
              " 'and',\n",
              " 'let',\n",
              " 'them',\n",
              " 'be',\n",
              " 'for',\n",
              " 'signs,',\n",
              " 'and',\n",
              " 'for',\n",
              " 'seasons,',\n",
              " 'and',\n",
              " 'for',\n",
              " 'days,',\n",
              " 'and',\n",
              " 'years:',\n",
              " 'And',\n",
              " 'let',\n",
              " 'them',\n",
              " 'be',\n",
              " 'for',\n",
              " 'lights',\n",
              " 'in',\n",
              " 'the',\n",
              " 'firmament',\n",
              " 'of',\n",
              " 'the',\n",
              " 'heaven',\n",
              " 'to',\n",
              " 'give',\n",
              " 'light',\n",
              " 'upon',\n",
              " 'the',\n",
              " 'earth:',\n",
              " 'and',\n",
              " 'it',\n",
              " 'was',\n",
              " 'so.',\n",
              " 'And',\n",
              " 'God',\n",
              " 'made',\n",
              " 'two',\n",
              " 'great',\n",
              " 'lights;',\n",
              " 'the',\n",
              " 'greater',\n",
              " 'light',\n",
              " 'to',\n",
              " 'rule',\n",
              " 'the',\n",
              " 'day,',\n",
              " 'and',\n",
              " 'the',\n",
              " 'lesser',\n",
              " 'light',\n",
              " 'to',\n",
              " 'rule',\n",
              " 'the',\n",
              " 'night:',\n",
              " 'he',\n",
              " 'made',\n",
              " 'the',\n",
              " 'stars',\n",
              " 'also.',\n",
              " 'And',\n",
              " 'God',\n",
              " 'set',\n",
              " 'them',\n",
              " 'in',\n",
              " 'the',\n",
              " 'firmament',\n",
              " 'of',\n",
              " 'the',\n",
              " 'heaven',\n",
              " 'to',\n",
              " 'give',\n",
              " 'light',\n",
              " 'upon',\n",
              " 'the',\n",
              " 'earth,',\n",
              " 'And',\n",
              " 'to',\n",
              " 'rule',\n",
              " 'over',\n",
              " 'the',\n",
              " 'day',\n",
              " 'and',\n",
              " 'over',\n",
              " 'the',\n",
              " 'night,',\n",
              " 'and',\n",
              " 'to',\n",
              " 'divide',\n",
              " 'the',\n",
              " 'light',\n",
              " 'from',\n",
              " 'the',\n",
              " 'darkness:',\n",
              " 'and',\n",
              " 'God',\n",
              " 'saw',\n",
              " 'that',\n",
              " 'it',\n",
              " 'was',\n",
              " 'good.',\n",
              " 'And',\n",
              " 'the',\n",
              " 'evening',\n",
              " 'and',\n",
              " 'the',\n",
              " 'morning',\n",
              " 'were',\n",
              " 'the',\n",
              " 'fourth',\n",
              " 'day.',\n",
              " 'And',\n",
              " 'God',\n",
              " 'said,',\n",
              " 'Let',\n",
              " 'the',\n",
              " 'waters',\n",
              " 'bring',\n",
              " 'forth',\n",
              " 'abundantly',\n",
              " 'the',\n",
              " 'moving',\n",
              " 'creature',\n",
              " 'that',\n",
              " 'hath',\n",
              " 'life,',\n",
              " 'and',\n",
              " 'fowl',\n",
              " 'that',\n",
              " 'may',\n",
              " 'fly',\n",
              " 'above',\n",
              " 'the',\n",
              " 'earth',\n",
              " 'in',\n",
              " 'the',\n",
              " 'open',\n",
              " 'firmament',\n",
              " 'of',\n",
              " 'heaven.',\n",
              " 'And',\n",
              " 'God',\n",
              " 'created',\n",
              " 'great',\n",
              " 'whales,',\n",
              " 'and',\n",
              " 'every',\n",
              " 'living',\n",
              " 'creature',\n",
              " 'that',\n",
              " 'moveth,',\n",
              " 'which',\n",
              " 'the',\n",
              " 'waters',\n",
              " 'brought',\n",
              " 'forth',\n",
              " 'abundantly,',\n",
              " 'after',\n",
              " 'their',\n",
              " 'kind,',\n",
              " 'and',\n",
              " 'every',\n",
              " 'winged',\n",
              " 'fowl',\n",
              " 'after',\n",
              " 'his',\n",
              " 'kind:',\n",
              " 'and',\n",
              " 'God',\n",
              " 'saw',\n",
              " 'that',\n",
              " 'it',\n",
              " 'was',\n",
              " 'good.',\n",
              " 'And',\n",
              " 'God',\n",
              " 'blessed',\n",
              " 'them,',\n",
              " 'saying,',\n",
              " 'Be',\n",
              " 'fruitful,',\n",
              " 'and',\n",
              " 'multiply,',\n",
              " 'and',\n",
              " 'fill',\n",
              " 'the',\n",
              " 'waters',\n",
              " 'in',\n",
              " 'the',\n",
              " 'seas,',\n",
              " 'and',\n",
              " 'let',\n",
              " 'fowl',\n",
              " 'multiply',\n",
              " 'in',\n",
              " 'the',\n",
              " 'earth.',\n",
              " 'And',\n",
              " 'the',\n",
              " 'evening',\n",
              " 'and',\n",
              " 'the',\n",
              " 'morning',\n",
              " 'were',\n",
              " 'the',\n",
              " 'fifth',\n",
              " 'day.',\n",
              " 'And',\n",
              " 'God',\n",
              " 'said,',\n",
              " 'Let',\n",
              " 'the',\n",
              " 'earth',\n",
              " 'bring',\n",
              " 'forth',\n",
              " 'the',\n",
              " 'living',\n",
              " 'creature',\n",
              " 'after',\n",
              " 'his',\n",
              " 'kind,',\n",
              " 'cattle,',\n",
              " 'and',\n",
              " 'creeping',\n",
              " 'thing,',\n",
              " 'and',\n",
              " 'beast',\n",
              " 'of',\n",
              " 'the',\n",
              " 'earth',\n",
              " 'after',\n",
              " 'his',\n",
              " 'kind:',\n",
              " 'and',\n",
              " 'it',\n",
              " 'was',\n",
              " 'so.',\n",
              " 'And',\n",
              " 'God',\n",
              " 'made',\n",
              " 'the',\n",
              " 'beast',\n",
              " 'of',\n",
              " 'the',\n",
              " 'earth',\n",
              " 'after',\n",
              " 'his',\n",
              " 'kind,',\n",
              " 'and',\n",
              " 'cattle',\n",
              " 'after',\n",
              " 'their',\n",
              " 'kind,',\n",
              " 'and',\n",
              " 'every',\n",
              " 'thing',\n",
              " 'that',\n",
              " 'creepeth',\n",
              " 'upon',\n",
              " 'the',\n",
              " 'earth',\n",
              " 'after',\n",
              " 'his',\n",
              " 'kind:',\n",
              " 'and',\n",
              " 'God',\n",
              " 'saw',\n",
              " 'that',\n",
              " 'it',\n",
              " 'was',\n",
              " 'good.',\n",
              " 'And',\n",
              " 'God',\n",
              " 'said,',\n",
              " 'Let',\n",
              " 'us',\n",
              " 'make',\n",
              " 'man',\n",
              " 'in',\n",
              " 'our',\n",
              " 'image,',\n",
              " 'after',\n",
              " 'our',\n",
              " 'likeness:',\n",
              " 'and',\n",
              " 'let',\n",
              " 'them',\n",
              " 'have',\n",
              " 'dominion',\n",
              " 'over',\n",
              " 'the',\n",
              " 'fish',\n",
              " 'of',\n",
              " 'the',\n",
              " 'sea,',\n",
              " 'and',\n",
              " 'over',\n",
              " 'the',\n",
              " 'fowl',\n",
              " 'of',\n",
              " 'the',\n",
              " 'air,',\n",
              " 'and',\n",
              " 'over',\n",
              " 'the',\n",
              " 'cattle,',\n",
              " 'and',\n",
              " 'over',\n",
              " 'all',\n",
              " 'the',\n",
              " 'earth,',\n",
              " 'and',\n",
              " 'over',\n",
              " 'every',\n",
              " 'creeping',\n",
              " 'thing',\n",
              " 'that',\n",
              " 'creepeth',\n",
              " 'upon',\n",
              " 'the',\n",
              " 'earth.',\n",
              " 'So',\n",
              " 'God',\n",
              " 'created',\n",
              " 'man',\n",
              " 'in',\n",
              " 'his',\n",
              " 'own',\n",
              " 'image,',\n",
              " 'in',\n",
              " 'the',\n",
              " 'image',\n",
              " 'of',\n",
              " 'God',\n",
              " 'created',\n",
              " 'he',\n",
              " 'him;',\n",
              " 'male',\n",
              " 'and',\n",
              " 'female',\n",
              " 'created',\n",
              " 'he',\n",
              " 'them.',\n",
              " 'And',\n",
              " 'God',\n",
              " 'blessed',\n",
              " 'them,',\n",
              " 'and',\n",
              " 'God',\n",
              " 'said',\n",
              " 'unto',\n",
              " 'them,',\n",
              " 'Be',\n",
              " 'fruitful,',\n",
              " 'and',\n",
              " 'multiply,',\n",
              " 'and',\n",
              " 'replenish',\n",
              " 'the',\n",
              " 'earth,',\n",
              " 'and',\n",
              " 'subdue',\n",
              " 'it:',\n",
              " 'and',\n",
              " 'have',\n",
              " 'dominion',\n",
              " 'over',\n",
              " 'the',\n",
              " 'fish',\n",
              " 'of',\n",
              " 'the',\n",
              " 'sea,',\n",
              " 'and',\n",
              " 'over',\n",
              " 'the',\n",
              " 'fowl',\n",
              " 'of',\n",
              " 'the',\n",
              " 'air,',\n",
              " 'and',\n",
              " 'over',\n",
              " 'every',\n",
              " 'living',\n",
              " 'thing',\n",
              " 'that',\n",
              " 'moveth',\n",
              " 'upon',\n",
              " 'the',\n",
              " 'earth.',\n",
              " 'And',\n",
              " 'God',\n",
              " 'said,',\n",
              " 'Behold,',\n",
              " 'I',\n",
              " 'have',\n",
              " 'given',\n",
              " 'you',\n",
              " 'every',\n",
              " 'herb',\n",
              " 'bearing',\n",
              " 'seed,',\n",
              " 'which',\n",
              " 'is',\n",
              " 'upon',\n",
              " 'the',\n",
              " 'face',\n",
              " 'of',\n",
              " 'all',\n",
              " 'the',\n",
              " 'earth,',\n",
              " 'and',\n",
              " 'every',\n",
              " 'tree,',\n",
              " 'in',\n",
              " 'the',\n",
              " 'which',\n",
              " 'is',\n",
              " 'the',\n",
              " 'fruit',\n",
              " 'of',\n",
              " 'a',\n",
              " 'tree',\n",
              " 'yielding',\n",
              " 'seed;',\n",
              " 'to',\n",
              " 'you',\n",
              " 'it',\n",
              " 'shall',\n",
              " 'be',\n",
              " 'for',\n",
              " 'meat.',\n",
              " 'And',\n",
              " 'to',\n",
              " 'every',\n",
              " 'beast',\n",
              " 'of',\n",
              " 'the',\n",
              " 'earth,',\n",
              " 'and',\n",
              " 'to',\n",
              " 'every',\n",
              " 'fowl',\n",
              " 'of',\n",
              " 'the',\n",
              " 'air,',\n",
              " 'and',\n",
              " 'to',\n",
              " 'every',\n",
              " 'thing',\n",
              " 'that',\n",
              " 'creepeth',\n",
              " 'upon',\n",
              " 'the',\n",
              " 'earth,',\n",
              " 'wherein',\n",
              " 'there',\n",
              " 'is',\n",
              " 'life,',\n",
              " 'I',\n",
              " 'have',\n",
              " 'given',\n",
              " 'every',\n",
              " 'green',\n",
              " 'herb',\n",
              " 'for',\n",
              " 'meat:',\n",
              " 'and',\n",
              " 'it',\n",
              " 'was',\n",
              " 'so.',\n",
              " 'And',\n",
              " 'God',\n",
              " 'saw',\n",
              " 'every',\n",
              " 'thing',\n",
              " 'that',\n",
              " 'he',\n",
              " 'had',\n",
              " 'made,',\n",
              " 'and,',\n",
              " 'behold,',\n",
              " 'it',\n",
              " 'was',\n",
              " 'very',\n",
              " 'good.',\n",
              " 'And',\n",
              " 'the',\n",
              " 'evening',\n",
              " 'and',\n",
              " 'the',\n",
              " 'morning',\n",
              " 'were',\n",
              " 'the',\n",
              " 'sixth',\n",
              " 'day.']"
            ]
          },
          "metadata": {
            "tags": []
          },
          "execution_count": 49
        }
      ]
    },
    {
      "cell_type": "code",
      "metadata": {
        "id": "D8FRLbX9sBPY",
        "outputId": "432c558d-4bfc-48c6-bea8-8b8f596a0927",
        "colab": {
          "base_uri": "https://localhost:8080/"
        }
      },
      "source": [
        "tokens[:10]"
      ],
      "execution_count": 50,
      "outputs": [
        {
          "output_type": "execute_result",
          "data": {
            "text/plain": [
              "['In',\n",
              " 'the',\n",
              " 'beginning',\n",
              " 'God',\n",
              " 'created',\n",
              " 'the',\n",
              " 'heavens',\n",
              " 'and',\n",
              " 'the',\n",
              " 'earth.']"
            ]
          },
          "metadata": {
            "tags": []
          },
          "execution_count": 50
        }
      ]
    },
    {
      "cell_type": "code",
      "metadata": {
        "id": "Mmpl3dbpsFN4",
        "outputId": "a43682a4-a0d6-4945-8de2-a392f8179c00",
        "colab": {
          "base_uri": "https://localhost:8080/",
          "height": 35
        }
      },
      "source": [
        "' God '.join(tokens[:10])"
      ],
      "execution_count": 53,
      "outputs": [
        {
          "output_type": "execute_result",
          "data": {
            "application/vnd.google.colaboratory.intrinsic+json": {
              "type": "string"
            },
            "text/plain": [
              "'In God the God beginning God God God created God the God heavens God and God the God earth.'"
            ]
          },
          "metadata": {
            "tags": []
          },
          "execution_count": 53
        }
      ]
    },
    {
      "cell_type": "code",
      "metadata": {
        "id": "m3r2H8zYsMNw"
      },
      "source": [
        "sentences = genesis.split('. ')"
      ],
      "execution_count": 55,
      "outputs": []
    },
    {
      "cell_type": "code",
      "metadata": {
        "id": "ZzzSWCEcskuJ",
        "outputId": "4e670da4-6548-4822-ae9f-ff9e09c224bf",
        "colab": {
          "base_uri": "https://localhost:8080/"
        }
      },
      "source": [
        "for sent in sentences:\n",
        "  print(sent + '.' + ' Thanks God!')"
      ],
      "execution_count": 57,
      "outputs": [
        {
          "output_type": "stream",
          "text": [
            "In the beginning God created the heavens and the earth. Thanks God!\n",
            "And the earth was without form, and void; and darkness was upon the face of the deep. Thanks God!\n",
            "And the Spirit of God moved upon the face of the waters. Thanks God!\n",
            "And God said, Let there be light: and there was light. Thanks God!\n",
            "And God saw the light, that it was good: and God divided the light from the darkness. Thanks God!\n",
            "And God called the light Day, and the darkness he called Night. Thanks God!\n",
            "And the evening and the morning were the first day. Thanks God!\n",
            "And God said, Let there be a firmament in the midst of the waters, and let it divide the waters from the waters. Thanks God!\n",
            "And God made the firmament, and divided the waters which were under the firmament from the waters which were above the firmament: and it was so. Thanks God!\n",
            "And God called the firmament Heaven. Thanks God!\n",
            "And the evening and the morning were the second day. Thanks God!\n",
            "And God said, Let the waters under the heaven be gathered together unto one place, and let the dry land appear: and it was so. Thanks God!\n",
            "And God called the dry land Earth; and the gathering together of the waters called he Seas: and God saw that it was good. Thanks God!\n",
            "And God said, Let the earth bring forth grass, the herb yielding seed, and the fruit tree yielding fruit after his kind, whose seed is in itself, upon the earth: and it was so. Thanks God!\n",
            "And the earth brought forth grass, and herb yielding seed after his kind, and the tree yielding fruit, whose seed was in itself, after his kind: and God saw that it was good. Thanks God!\n",
            "And the evening and the morning were the third day. Thanks God!\n",
            "And God said, Let there be lights in the firmament of the heaven to divide the day from the night; and let them be for signs, and for seasons, and for days, and years: And let them be for lights in the firmament of the heaven to give light upon the earth: and it was so. Thanks God!\n",
            "And God made two great lights; the greater light to rule the day, and the lesser light to rule the night: he made the stars also. Thanks God!\n",
            "And God set them in the firmament of the heaven to give light upon the earth, And to rule over the day and over the night, and to divide the light from the darkness: and God saw that it was good. Thanks God!\n",
            "And the evening and the morning were the fourth day. Thanks God!\n",
            "And God said, Let the waters bring forth abundantly the moving creature that hath life, and fowl that may fly above the earth in the open firmament of heaven. Thanks God!\n",
            "And God created great whales, and every living creature that moveth, which the waters brought forth abundantly, after their kind, and every winged fowl after his kind: and God saw that it was good. Thanks God!\n",
            "And God blessed them, saying, Be fruitful, and multiply, and fill the waters in the seas, and let fowl multiply in the earth. Thanks God!\n",
            "And the evening and the morning were the fifth day. Thanks God!\n",
            "And God said, Let the earth bring forth the living creature after his kind, cattle, and creeping thing, and beast of the earth after his kind: and it was so. Thanks God!\n",
            "And God made the beast of the earth after his kind, and cattle after their kind, and every thing that creepeth upon the earth after his kind: and God saw that it was good. Thanks God!\n",
            "And God said, Let us make man in our image, after our likeness: and let them have dominion over the fish of the sea, and over the fowl of the air, and over the cattle, and over all the earth, and over every creeping thing that creepeth upon the earth. Thanks God!\n",
            "So God created man in his own image, in the image of God created he him; male and female created he them. Thanks God!\n",
            "And God blessed them, and God said unto them, Be fruitful, and multiply, and replenish the earth, and subdue it: and have dominion over the fish of the sea, and over the fowl of the air, and over every living thing that moveth upon the earth. Thanks God!\n",
            "And God said, Behold, I have given you every herb bearing seed, which is upon the face of all the earth, and every tree, in the which is the fruit of a tree yielding seed; to you it shall be for meat. Thanks God!\n",
            "And to every beast of the earth, and to every fowl of the air, and to every thing that creepeth upon the earth, wherein there is life, I have given every green herb for meat: and it was so. Thanks God!\n",
            "And God saw every thing that he had made, and, behold, it was very good. Thanks God!\n",
            "And the evening and the morning were the sixth day.. Thanks God!\n"
          ],
          "name": "stdout"
        }
      ]
    },
    {
      "cell_type": "code",
      "metadata": {
        "id": "HFuAEpcjssw9",
        "outputId": "ac7fc677-ad43-40ef-dcc0-5aff48812e77",
        "colab": {
          "base_uri": "https://localhost:8080/",
          "height": 170
        }
      },
      "source": [
        "fruits"
      ],
      "execution_count": 58,
      "outputs": [
        {
          "output_type": "error",
          "ename": "NameError",
          "evalue": "ignored",
          "traceback": [
            "\u001b[0;31m---------------------------------------------------------------------------\u001b[0m",
            "\u001b[0;31mNameError\u001b[0m                                 Traceback (most recent call last)",
            "\u001b[0;32m<ipython-input-58-5842b46f59fb>\u001b[0m in \u001b[0;36m<module>\u001b[0;34m()\u001b[0m\n\u001b[0;32m----> 1\u001b[0;31m \u001b[0mfruits\u001b[0m\u001b[0;34m\u001b[0m\u001b[0;34m\u001b[0m\u001b[0m\n\u001b[0m",
            "\u001b[0;31mNameError\u001b[0m: name 'fruits' is not defined"
          ]
        }
      ]
    },
    {
      "cell_type": "code",
      "metadata": {
        "id": "wewRV89ZtBwe",
        "outputId": "3daa25e1-b37f-4d22-b88a-945aa943cdc9",
        "colab": {
          "base_uri": "https://localhost:8080/",
          "height": 170
        }
      },
      "source": [
        "fruit"
      ],
      "execution_count": 59,
      "outputs": [
        {
          "output_type": "error",
          "ename": "NameError",
          "evalue": "ignored",
          "traceback": [
            "\u001b[0;31m---------------------------------------------------------------------------\u001b[0m",
            "\u001b[0;31mNameError\u001b[0m                                 Traceback (most recent call last)",
            "\u001b[0;32m<ipython-input-59-5d812c3d2978>\u001b[0m in \u001b[0;36m<module>\u001b[0;34m()\u001b[0m\n\u001b[0;32m----> 1\u001b[0;31m \u001b[0mfruit\u001b[0m\u001b[0;34m\u001b[0m\u001b[0;34m\u001b[0m\u001b[0m\n\u001b[0m",
            "\u001b[0;31mNameError\u001b[0m: name 'fruit' is not defined"
          ]
        }
      ]
    },
    {
      "cell_type": "code",
      "metadata": {
        "id": "-4aGcpoptCgW",
        "outputId": "4f195039-f615-4e82-a6cb-98928da264cc",
        "colab": {
          "base_uri": "https://localhost:8080/"
        }
      },
      "source": [
        "mylist"
      ],
      "execution_count": 60,
      "outputs": [
        {
          "output_type": "execute_result",
          "data": {
            "text/plain": [
              "['apple', 'pear', 'cherry']"
            ]
          },
          "metadata": {
            "tags": []
          },
          "execution_count": 60
        }
      ]
    },
    {
      "cell_type": "code",
      "metadata": {
        "id": "T8FQA0ldtGQH",
        "outputId": "710a74f3-fdae-42cc-d209-c9fe7657485c",
        "colab": {
          "base_uri": "https://localhost:8080/"
        }
      },
      "source": [
        "for fruit in mylist:\n",
        "  print(\"I like\", fruit, '.', sep=' ')\n",
        "print('Thas all')"
      ],
      "execution_count": 68,
      "outputs": [
        {
          "output_type": "stream",
          "text": [
            "I like apple .\n",
            "I like pear .\n",
            "I like cherry .\n",
            "Thas all\n"
          ],
          "name": "stdout"
        }
      ]
    },
    {
      "cell_type": "code",
      "metadata": {
        "id": "P7BYyZd4tLHn",
        "outputId": "0f1c0424-6694-44ac-97ee-b2389f908844",
        "colab": {
          "base_uri": "https://localhost:8080/"
        }
      },
      "source": [
        "tokens"
      ],
      "execution_count": 69,
      "outputs": [
        {
          "output_type": "execute_result",
          "data": {
            "text/plain": [
              "['In',\n",
              " 'the',\n",
              " 'beginning',\n",
              " 'God',\n",
              " 'created',\n",
              " 'the',\n",
              " 'heavens',\n",
              " 'and',\n",
              " 'the',\n",
              " 'earth.',\n",
              " 'And',\n",
              " 'the',\n",
              " 'earth',\n",
              " 'was',\n",
              " 'without',\n",
              " 'form,',\n",
              " 'and',\n",
              " 'void;',\n",
              " 'and',\n",
              " 'darkness',\n",
              " 'was',\n",
              " 'upon',\n",
              " 'the',\n",
              " 'face',\n",
              " 'of',\n",
              " 'the',\n",
              " 'deep.',\n",
              " 'And',\n",
              " 'the',\n",
              " 'Spirit',\n",
              " 'of',\n",
              " 'God',\n",
              " 'moved',\n",
              " 'upon',\n",
              " 'the',\n",
              " 'face',\n",
              " 'of',\n",
              " 'the',\n",
              " 'waters.',\n",
              " 'And',\n",
              " 'God',\n",
              " 'said,',\n",
              " 'Let',\n",
              " 'there',\n",
              " 'be',\n",
              " 'light:',\n",
              " 'and',\n",
              " 'there',\n",
              " 'was',\n",
              " 'light.',\n",
              " 'And',\n",
              " 'God',\n",
              " 'saw',\n",
              " 'the',\n",
              " 'light,',\n",
              " 'that',\n",
              " 'it',\n",
              " 'was',\n",
              " 'good:',\n",
              " 'and',\n",
              " 'God',\n",
              " 'divided',\n",
              " 'the',\n",
              " 'light',\n",
              " 'from',\n",
              " 'the',\n",
              " 'darkness.',\n",
              " 'And',\n",
              " 'God',\n",
              " 'called',\n",
              " 'the',\n",
              " 'light',\n",
              " 'Day,',\n",
              " 'and',\n",
              " 'the',\n",
              " 'darkness',\n",
              " 'he',\n",
              " 'called',\n",
              " 'Night.',\n",
              " 'And',\n",
              " 'the',\n",
              " 'evening',\n",
              " 'and',\n",
              " 'the',\n",
              " 'morning',\n",
              " 'were',\n",
              " 'the',\n",
              " 'first',\n",
              " 'day.',\n",
              " 'And',\n",
              " 'God',\n",
              " 'said,',\n",
              " 'Let',\n",
              " 'there',\n",
              " 'be',\n",
              " 'a',\n",
              " 'firmament',\n",
              " 'in',\n",
              " 'the',\n",
              " 'midst',\n",
              " 'of',\n",
              " 'the',\n",
              " 'waters,',\n",
              " 'and',\n",
              " 'let',\n",
              " 'it',\n",
              " 'divide',\n",
              " 'the',\n",
              " 'waters',\n",
              " 'from',\n",
              " 'the',\n",
              " 'waters.',\n",
              " 'And',\n",
              " 'God',\n",
              " 'made',\n",
              " 'the',\n",
              " 'firmament,',\n",
              " 'and',\n",
              " 'divided',\n",
              " 'the',\n",
              " 'waters',\n",
              " 'which',\n",
              " 'were',\n",
              " 'under',\n",
              " 'the',\n",
              " 'firmament',\n",
              " 'from',\n",
              " 'the',\n",
              " 'waters',\n",
              " 'which',\n",
              " 'were',\n",
              " 'above',\n",
              " 'the',\n",
              " 'firmament:',\n",
              " 'and',\n",
              " 'it',\n",
              " 'was',\n",
              " 'so.',\n",
              " 'And',\n",
              " 'God',\n",
              " 'called',\n",
              " 'the',\n",
              " 'firmament',\n",
              " 'Heaven.',\n",
              " 'And',\n",
              " 'the',\n",
              " 'evening',\n",
              " 'and',\n",
              " 'the',\n",
              " 'morning',\n",
              " 'were',\n",
              " 'the',\n",
              " 'second',\n",
              " 'day.',\n",
              " 'And',\n",
              " 'God',\n",
              " 'said,',\n",
              " 'Let',\n",
              " 'the',\n",
              " 'waters',\n",
              " 'under',\n",
              " 'the',\n",
              " 'heaven',\n",
              " 'be',\n",
              " 'gathered',\n",
              " 'together',\n",
              " 'unto',\n",
              " 'one',\n",
              " 'place,',\n",
              " 'and',\n",
              " 'let',\n",
              " 'the',\n",
              " 'dry',\n",
              " 'land',\n",
              " 'appear:',\n",
              " 'and',\n",
              " 'it',\n",
              " 'was',\n",
              " 'so.',\n",
              " 'And',\n",
              " 'God',\n",
              " 'called',\n",
              " 'the',\n",
              " 'dry',\n",
              " 'land',\n",
              " 'Earth;',\n",
              " 'and',\n",
              " 'the',\n",
              " 'gathering',\n",
              " 'together',\n",
              " 'of',\n",
              " 'the',\n",
              " 'waters',\n",
              " 'called',\n",
              " 'he',\n",
              " 'Seas:',\n",
              " 'and',\n",
              " 'God',\n",
              " 'saw',\n",
              " 'that',\n",
              " 'it',\n",
              " 'was',\n",
              " 'good.',\n",
              " 'And',\n",
              " 'God',\n",
              " 'said,',\n",
              " 'Let',\n",
              " 'the',\n",
              " 'earth',\n",
              " 'bring',\n",
              " 'forth',\n",
              " 'grass,',\n",
              " 'the',\n",
              " 'herb',\n",
              " 'yielding',\n",
              " 'seed,',\n",
              " 'and',\n",
              " 'the',\n",
              " 'fruit',\n",
              " 'tree',\n",
              " 'yielding',\n",
              " 'fruit',\n",
              " 'after',\n",
              " 'his',\n",
              " 'kind,',\n",
              " 'whose',\n",
              " 'seed',\n",
              " 'is',\n",
              " 'in',\n",
              " 'itself,',\n",
              " 'upon',\n",
              " 'the',\n",
              " 'earth:',\n",
              " 'and',\n",
              " 'it',\n",
              " 'was',\n",
              " 'so.',\n",
              " 'And',\n",
              " 'the',\n",
              " 'earth',\n",
              " 'brought',\n",
              " 'forth',\n",
              " 'grass,',\n",
              " 'and',\n",
              " 'herb',\n",
              " 'yielding',\n",
              " 'seed',\n",
              " 'after',\n",
              " 'his',\n",
              " 'kind,',\n",
              " 'and',\n",
              " 'the',\n",
              " 'tree',\n",
              " 'yielding',\n",
              " 'fruit,',\n",
              " 'whose',\n",
              " 'seed',\n",
              " 'was',\n",
              " 'in',\n",
              " 'itself,',\n",
              " 'after',\n",
              " 'his',\n",
              " 'kind:',\n",
              " 'and',\n",
              " 'God',\n",
              " 'saw',\n",
              " 'that',\n",
              " 'it',\n",
              " 'was',\n",
              " 'good.',\n",
              " 'And',\n",
              " 'the',\n",
              " 'evening',\n",
              " 'and',\n",
              " 'the',\n",
              " 'morning',\n",
              " 'were',\n",
              " 'the',\n",
              " 'third',\n",
              " 'day.',\n",
              " 'And',\n",
              " 'God',\n",
              " 'said,',\n",
              " 'Let',\n",
              " 'there',\n",
              " 'be',\n",
              " 'lights',\n",
              " 'in',\n",
              " 'the',\n",
              " 'firmament',\n",
              " 'of',\n",
              " 'the',\n",
              " 'heaven',\n",
              " 'to',\n",
              " 'divide',\n",
              " 'the',\n",
              " 'day',\n",
              " 'from',\n",
              " 'the',\n",
              " 'night;',\n",
              " 'and',\n",
              " 'let',\n",
              " 'them',\n",
              " 'be',\n",
              " 'for',\n",
              " 'signs,',\n",
              " 'and',\n",
              " 'for',\n",
              " 'seasons,',\n",
              " 'and',\n",
              " 'for',\n",
              " 'days,',\n",
              " 'and',\n",
              " 'years:',\n",
              " 'And',\n",
              " 'let',\n",
              " 'them',\n",
              " 'be',\n",
              " 'for',\n",
              " 'lights',\n",
              " 'in',\n",
              " 'the',\n",
              " 'firmament',\n",
              " 'of',\n",
              " 'the',\n",
              " 'heaven',\n",
              " 'to',\n",
              " 'give',\n",
              " 'light',\n",
              " 'upon',\n",
              " 'the',\n",
              " 'earth:',\n",
              " 'and',\n",
              " 'it',\n",
              " 'was',\n",
              " 'so.',\n",
              " 'And',\n",
              " 'God',\n",
              " 'made',\n",
              " 'two',\n",
              " 'great',\n",
              " 'lights;',\n",
              " 'the',\n",
              " 'greater',\n",
              " 'light',\n",
              " 'to',\n",
              " 'rule',\n",
              " 'the',\n",
              " 'day,',\n",
              " 'and',\n",
              " 'the',\n",
              " 'lesser',\n",
              " 'light',\n",
              " 'to',\n",
              " 'rule',\n",
              " 'the',\n",
              " 'night:',\n",
              " 'he',\n",
              " 'made',\n",
              " 'the',\n",
              " 'stars',\n",
              " 'also.',\n",
              " 'And',\n",
              " 'God',\n",
              " 'set',\n",
              " 'them',\n",
              " 'in',\n",
              " 'the',\n",
              " 'firmament',\n",
              " 'of',\n",
              " 'the',\n",
              " 'heaven',\n",
              " 'to',\n",
              " 'give',\n",
              " 'light',\n",
              " 'upon',\n",
              " 'the',\n",
              " 'earth,',\n",
              " 'And',\n",
              " 'to',\n",
              " 'rule',\n",
              " 'over',\n",
              " 'the',\n",
              " 'day',\n",
              " 'and',\n",
              " 'over',\n",
              " 'the',\n",
              " 'night,',\n",
              " 'and',\n",
              " 'to',\n",
              " 'divide',\n",
              " 'the',\n",
              " 'light',\n",
              " 'from',\n",
              " 'the',\n",
              " 'darkness:',\n",
              " 'and',\n",
              " 'God',\n",
              " 'saw',\n",
              " 'that',\n",
              " 'it',\n",
              " 'was',\n",
              " 'good.',\n",
              " 'And',\n",
              " 'the',\n",
              " 'evening',\n",
              " 'and',\n",
              " 'the',\n",
              " 'morning',\n",
              " 'were',\n",
              " 'the',\n",
              " 'fourth',\n",
              " 'day.',\n",
              " 'And',\n",
              " 'God',\n",
              " 'said,',\n",
              " 'Let',\n",
              " 'the',\n",
              " 'waters',\n",
              " 'bring',\n",
              " 'forth',\n",
              " 'abundantly',\n",
              " 'the',\n",
              " 'moving',\n",
              " 'creature',\n",
              " 'that',\n",
              " 'hath',\n",
              " 'life,',\n",
              " 'and',\n",
              " 'fowl',\n",
              " 'that',\n",
              " 'may',\n",
              " 'fly',\n",
              " 'above',\n",
              " 'the',\n",
              " 'earth',\n",
              " 'in',\n",
              " 'the',\n",
              " 'open',\n",
              " 'firmament',\n",
              " 'of',\n",
              " 'heaven.',\n",
              " 'And',\n",
              " 'God',\n",
              " 'created',\n",
              " 'great',\n",
              " 'whales,',\n",
              " 'and',\n",
              " 'every',\n",
              " 'living',\n",
              " 'creature',\n",
              " 'that',\n",
              " 'moveth,',\n",
              " 'which',\n",
              " 'the',\n",
              " 'waters',\n",
              " 'brought',\n",
              " 'forth',\n",
              " 'abundantly,',\n",
              " 'after',\n",
              " 'their',\n",
              " 'kind,',\n",
              " 'and',\n",
              " 'every',\n",
              " 'winged',\n",
              " 'fowl',\n",
              " 'after',\n",
              " 'his',\n",
              " 'kind:',\n",
              " 'and',\n",
              " 'God',\n",
              " 'saw',\n",
              " 'that',\n",
              " 'it',\n",
              " 'was',\n",
              " 'good.',\n",
              " 'And',\n",
              " 'God',\n",
              " 'blessed',\n",
              " 'them,',\n",
              " 'saying,',\n",
              " 'Be',\n",
              " 'fruitful,',\n",
              " 'and',\n",
              " 'multiply,',\n",
              " 'and',\n",
              " 'fill',\n",
              " 'the',\n",
              " 'waters',\n",
              " 'in',\n",
              " 'the',\n",
              " 'seas,',\n",
              " 'and',\n",
              " 'let',\n",
              " 'fowl',\n",
              " 'multiply',\n",
              " 'in',\n",
              " 'the',\n",
              " 'earth.',\n",
              " 'And',\n",
              " 'the',\n",
              " 'evening',\n",
              " 'and',\n",
              " 'the',\n",
              " 'morning',\n",
              " 'were',\n",
              " 'the',\n",
              " 'fifth',\n",
              " 'day.',\n",
              " 'And',\n",
              " 'God',\n",
              " 'said,',\n",
              " 'Let',\n",
              " 'the',\n",
              " 'earth',\n",
              " 'bring',\n",
              " 'forth',\n",
              " 'the',\n",
              " 'living',\n",
              " 'creature',\n",
              " 'after',\n",
              " 'his',\n",
              " 'kind,',\n",
              " 'cattle,',\n",
              " 'and',\n",
              " 'creeping',\n",
              " 'thing,',\n",
              " 'and',\n",
              " 'beast',\n",
              " 'of',\n",
              " 'the',\n",
              " 'earth',\n",
              " 'after',\n",
              " 'his',\n",
              " 'kind:',\n",
              " 'and',\n",
              " 'it',\n",
              " 'was',\n",
              " 'so.',\n",
              " 'And',\n",
              " 'God',\n",
              " 'made',\n",
              " 'the',\n",
              " 'beast',\n",
              " 'of',\n",
              " 'the',\n",
              " 'earth',\n",
              " 'after',\n",
              " 'his',\n",
              " 'kind,',\n",
              " 'and',\n",
              " 'cattle',\n",
              " 'after',\n",
              " 'their',\n",
              " 'kind,',\n",
              " 'and',\n",
              " 'every',\n",
              " 'thing',\n",
              " 'that',\n",
              " 'creepeth',\n",
              " 'upon',\n",
              " 'the',\n",
              " 'earth',\n",
              " 'after',\n",
              " 'his',\n",
              " 'kind:',\n",
              " 'and',\n",
              " 'God',\n",
              " 'saw',\n",
              " 'that',\n",
              " 'it',\n",
              " 'was',\n",
              " 'good.',\n",
              " 'And',\n",
              " 'God',\n",
              " 'said,',\n",
              " 'Let',\n",
              " 'us',\n",
              " 'make',\n",
              " 'man',\n",
              " 'in',\n",
              " 'our',\n",
              " 'image,',\n",
              " 'after',\n",
              " 'our',\n",
              " 'likeness:',\n",
              " 'and',\n",
              " 'let',\n",
              " 'them',\n",
              " 'have',\n",
              " 'dominion',\n",
              " 'over',\n",
              " 'the',\n",
              " 'fish',\n",
              " 'of',\n",
              " 'the',\n",
              " 'sea,',\n",
              " 'and',\n",
              " 'over',\n",
              " 'the',\n",
              " 'fowl',\n",
              " 'of',\n",
              " 'the',\n",
              " 'air,',\n",
              " 'and',\n",
              " 'over',\n",
              " 'the',\n",
              " 'cattle,',\n",
              " 'and',\n",
              " 'over',\n",
              " 'all',\n",
              " 'the',\n",
              " 'earth,',\n",
              " 'and',\n",
              " 'over',\n",
              " 'every',\n",
              " 'creeping',\n",
              " 'thing',\n",
              " 'that',\n",
              " 'creepeth',\n",
              " 'upon',\n",
              " 'the',\n",
              " 'earth.',\n",
              " 'So',\n",
              " 'God',\n",
              " 'created',\n",
              " 'man',\n",
              " 'in',\n",
              " 'his',\n",
              " 'own',\n",
              " 'image,',\n",
              " 'in',\n",
              " 'the',\n",
              " 'image',\n",
              " 'of',\n",
              " 'God',\n",
              " 'created',\n",
              " 'he',\n",
              " 'him;',\n",
              " 'male',\n",
              " 'and',\n",
              " 'female',\n",
              " 'created',\n",
              " 'he',\n",
              " 'them.',\n",
              " 'And',\n",
              " 'God',\n",
              " 'blessed',\n",
              " 'them,',\n",
              " 'and',\n",
              " 'God',\n",
              " 'said',\n",
              " 'unto',\n",
              " 'them,',\n",
              " 'Be',\n",
              " 'fruitful,',\n",
              " 'and',\n",
              " 'multiply,',\n",
              " 'and',\n",
              " 'replenish',\n",
              " 'the',\n",
              " 'earth,',\n",
              " 'and',\n",
              " 'subdue',\n",
              " 'it:',\n",
              " 'and',\n",
              " 'have',\n",
              " 'dominion',\n",
              " 'over',\n",
              " 'the',\n",
              " 'fish',\n",
              " 'of',\n",
              " 'the',\n",
              " 'sea,',\n",
              " 'and',\n",
              " 'over',\n",
              " 'the',\n",
              " 'fowl',\n",
              " 'of',\n",
              " 'the',\n",
              " 'air,',\n",
              " 'and',\n",
              " 'over',\n",
              " 'every',\n",
              " 'living',\n",
              " 'thing',\n",
              " 'that',\n",
              " 'moveth',\n",
              " 'upon',\n",
              " 'the',\n",
              " 'earth.',\n",
              " 'And',\n",
              " 'God',\n",
              " 'said,',\n",
              " 'Behold,',\n",
              " 'I',\n",
              " 'have',\n",
              " 'given',\n",
              " 'you',\n",
              " 'every',\n",
              " 'herb',\n",
              " 'bearing',\n",
              " 'seed,',\n",
              " 'which',\n",
              " 'is',\n",
              " 'upon',\n",
              " 'the',\n",
              " 'face',\n",
              " 'of',\n",
              " 'all',\n",
              " 'the',\n",
              " 'earth,',\n",
              " 'and',\n",
              " 'every',\n",
              " 'tree,',\n",
              " 'in',\n",
              " 'the',\n",
              " 'which',\n",
              " 'is',\n",
              " 'the',\n",
              " 'fruit',\n",
              " 'of',\n",
              " 'a',\n",
              " 'tree',\n",
              " 'yielding',\n",
              " 'seed;',\n",
              " 'to',\n",
              " 'you',\n",
              " 'it',\n",
              " 'shall',\n",
              " 'be',\n",
              " 'for',\n",
              " 'meat.',\n",
              " 'And',\n",
              " 'to',\n",
              " 'every',\n",
              " 'beast',\n",
              " 'of',\n",
              " 'the',\n",
              " 'earth,',\n",
              " 'and',\n",
              " 'to',\n",
              " 'every',\n",
              " 'fowl',\n",
              " 'of',\n",
              " 'the',\n",
              " 'air,',\n",
              " 'and',\n",
              " 'to',\n",
              " 'every',\n",
              " 'thing',\n",
              " 'that',\n",
              " 'creepeth',\n",
              " 'upon',\n",
              " 'the',\n",
              " 'earth,',\n",
              " 'wherein',\n",
              " 'there',\n",
              " 'is',\n",
              " 'life,',\n",
              " 'I',\n",
              " 'have',\n",
              " 'given',\n",
              " 'every',\n",
              " 'green',\n",
              " 'herb',\n",
              " 'for',\n",
              " 'meat:',\n",
              " 'and',\n",
              " 'it',\n",
              " 'was',\n",
              " 'so.',\n",
              " 'And',\n",
              " 'God',\n",
              " 'saw',\n",
              " 'every',\n",
              " 'thing',\n",
              " 'that',\n",
              " 'he',\n",
              " 'had',\n",
              " 'made,',\n",
              " 'and,',\n",
              " 'behold,',\n",
              " 'it',\n",
              " 'was',\n",
              " 'very',\n",
              " 'good.',\n",
              " 'And',\n",
              " 'the',\n",
              " 'evening',\n",
              " 'and',\n",
              " 'the',\n",
              " 'morning',\n",
              " 'were',\n",
              " 'the',\n",
              " 'sixth',\n",
              " 'day.']"
            ]
          },
          "metadata": {
            "tags": []
          },
          "execution_count": 69
        }
      ]
    },
    {
      "cell_type": "code",
      "metadata": {
        "id": "ftmgpkmEvpBH"
      },
      "source": [
        "from collections import Counter"
      ],
      "execution_count": 70,
      "outputs": []
    },
    {
      "cell_type": "code",
      "metadata": {
        "id": "ZMSEyVrEwEUG"
      },
      "source": [
        "freq_dict = Counter(tokens)"
      ],
      "execution_count": 71,
      "outputs": []
    },
    {
      "cell_type": "code",
      "metadata": {
        "id": "aq6WMZQDwSAV",
        "outputId": "3c28c014-0df8-44f2-e977-2866f23b170d",
        "colab": {
          "base_uri": "https://localhost:8080/"
        }
      },
      "source": [
        "freq_dict.most_common(10)"
      ],
      "execution_count": 75,
      "outputs": [
        {
          "output_type": "execute_result",
          "data": {
            "text/plain": [
              "[('the', 108),\n",
              " ('and', 63),\n",
              " ('And', 33),\n",
              " ('God', 32),\n",
              " ('of', 20),\n",
              " ('was', 17),\n",
              " ('it', 15),\n",
              " ('that', 14),\n",
              " ('in', 13),\n",
              " ('every', 12)]"
            ]
          },
          "metadata": {
            "tags": []
          },
          "execution_count": 75
        }
      ]
    },
    {
      "cell_type": "code",
      "metadata": {
        "id": "eJaV-u8LwUFh"
      },
      "source": [
        "lower_genesis = genesis.lower()"
      ],
      "execution_count": 76,
      "outputs": []
    },
    {
      "cell_type": "code",
      "metadata": {
        "id": "l7Y4pf6LxBAt",
        "outputId": "327cf828-ec18-40ab-daaf-92b96ae44d6b",
        "colab": {
          "base_uri": "https://localhost:8080/",
          "height": 177
        }
      },
      "source": [
        "lower_genesis"
      ],
      "execution_count": 77,
      "outputs": [
        {
          "output_type": "execute_result",
          "data": {
            "application/vnd.google.colaboratory.intrinsic+json": {
              "type": "string"
            },
            "text/plain": [
              "'in the beginning god created the heavens and the earth. and the earth was without form, and void; and darkness was upon the face of the deep. and the spirit of god moved upon the face of the waters. and god said, let there be light: and there was light. and god saw the light, that it was good: and god divided the light from the darkness. and god called the light day, and the darkness he called night. and the evening and the morning were the first day. and god said, let there be a firmament in the midst of the waters, and let it divide the waters from the waters. and god made the firmament, and divided the waters which were under the firmament from the waters which were above the firmament: and it was so. and god called the firmament heaven. and the evening and the morning were the second day. and god said, let the waters under the heaven be gathered together unto one place, and let the dry land appear: and it was so. and god called the dry land earth; and the gathering together of the waters called he seas: and god saw that it was good. and god said, let the earth bring forth grass, the herb yielding seed, and the fruit tree yielding fruit after his kind, whose seed is in itself, upon the earth: and it was so. and the earth brought forth grass, and herb yielding seed after his kind, and the tree yielding fruit, whose seed was in itself, after his kind: and god saw that it was good. and the evening and the morning were the third day. and god said, let there be lights in the firmament of the heaven to divide the day from the night; and let them be for signs, and for seasons, and for days, and years: and let them be for lights in the firmament of the heaven to give light upon the earth: and it was so. and god made two great lights; the greater light to rule the day, and the lesser light to rule the night: he made the stars also. and god set them in the firmament of the heaven to give light upon the earth, and to rule over the day and over the night, and to divide the light from the darkness: and god saw that it was good. and the evening and the morning were the fourth day. and god said, let the waters bring forth abundantly the moving creature that hath life, and fowl that may fly above the earth in the open firmament of heaven. and god created great whales, and every living creature that moveth, which the waters brought forth abundantly, after their kind, and every winged fowl after his kind: and god saw that it was good. and god blessed them, saying, be fruitful, and multiply, and fill the waters in the seas, and let fowl multiply in the earth. and the evening and the morning were the fifth day. and god said, let the earth bring forth the living creature after his kind, cattle, and creeping thing, and beast of the earth after his kind: and it was so. and god made the beast of the earth after his kind, and cattle after their kind, and every thing that creepeth upon the earth after his kind: and god saw that it was good. and god said, let us make man in our image, after our likeness: and let them have dominion over the fish of the sea, and over the fowl of the air, and over the cattle, and over all the earth, and over every creeping thing that creepeth upon the earth. so god created man in his own image, in the image of god created he him; male and female created he them. and god blessed them, and god said unto them, be fruitful, and multiply, and replenish the earth, and subdue it: and have dominion over the fish of the sea, and over the fowl of the air, and over every living thing that moveth upon the earth. and god said, behold, i have given you every herb bearing seed, which is upon the face of all the earth, and every tree, in the which is the fruit of a tree yielding seed; to you it shall be for meat. and to every beast of the earth, and to every fowl of the air, and to every thing that creepeth upon the earth, wherein there is life, i have given every green herb for meat: and it was so. and god saw every thing that he had made, and, behold, it was very good. and the evening and the morning were the sixth day.'"
            ]
          },
          "metadata": {
            "tags": []
          },
          "execution_count": 77
        }
      ]
    },
    {
      "cell_type": "code",
      "metadata": {
        "id": "E-tabmxGxCra",
        "outputId": "3d09df37-ead6-4048-ddd4-4d959d3d7df0",
        "colab": {
          "base_uri": "https://localhost:8080/"
        }
      },
      "source": [
        "freq_dict"
      ],
      "execution_count": 78,
      "outputs": [
        {
          "output_type": "execute_result",
          "data": {
            "text/plain": [
              "Counter({'And': 33,\n",
              "         'Be': 2,\n",
              "         'Behold,': 1,\n",
              "         'Day,': 1,\n",
              "         'Earth;': 1,\n",
              "         'God': 32,\n",
              "         'Heaven.': 1,\n",
              "         'I': 2,\n",
              "         'In': 1,\n",
              "         'Let': 8,\n",
              "         'Night.': 1,\n",
              "         'Seas:': 1,\n",
              "         'So': 1,\n",
              "         'Spirit': 1,\n",
              "         'a': 2,\n",
              "         'above': 2,\n",
              "         'abundantly': 1,\n",
              "         'abundantly,': 1,\n",
              "         'after': 11,\n",
              "         'air,': 3,\n",
              "         'all': 2,\n",
              "         'also.': 1,\n",
              "         'and': 63,\n",
              "         'and,': 1,\n",
              "         'appear:': 1,\n",
              "         'be': 7,\n",
              "         'bearing': 1,\n",
              "         'beast': 3,\n",
              "         'beginning': 1,\n",
              "         'behold,': 1,\n",
              "         'blessed': 2,\n",
              "         'bring': 3,\n",
              "         'brought': 2,\n",
              "         'called': 5,\n",
              "         'cattle': 1,\n",
              "         'cattle,': 2,\n",
              "         'created': 5,\n",
              "         'creature': 3,\n",
              "         'creepeth': 3,\n",
              "         'creeping': 2,\n",
              "         'darkness': 2,\n",
              "         'darkness.': 1,\n",
              "         'darkness:': 1,\n",
              "         'day': 2,\n",
              "         'day,': 1,\n",
              "         'day.': 6,\n",
              "         'days,': 1,\n",
              "         'deep.': 1,\n",
              "         'divide': 3,\n",
              "         'divided': 2,\n",
              "         'dominion': 2,\n",
              "         'dry': 2,\n",
              "         'earth': 8,\n",
              "         'earth,': 6,\n",
              "         'earth.': 4,\n",
              "         'earth:': 2,\n",
              "         'evening': 6,\n",
              "         'every': 12,\n",
              "         'face': 3,\n",
              "         'female': 1,\n",
              "         'fifth': 1,\n",
              "         'fill': 1,\n",
              "         'firmament': 7,\n",
              "         'firmament,': 1,\n",
              "         'firmament:': 1,\n",
              "         'first': 1,\n",
              "         'fish': 2,\n",
              "         'fly': 1,\n",
              "         'for': 6,\n",
              "         'form,': 1,\n",
              "         'forth': 5,\n",
              "         'fourth': 1,\n",
              "         'fowl': 6,\n",
              "         'from': 5,\n",
              "         'fruit': 3,\n",
              "         'fruit,': 1,\n",
              "         'fruitful,': 2,\n",
              "         'gathered': 1,\n",
              "         'gathering': 1,\n",
              "         'give': 2,\n",
              "         'given': 2,\n",
              "         'good.': 6,\n",
              "         'good:': 1,\n",
              "         'grass,': 2,\n",
              "         'great': 2,\n",
              "         'greater': 1,\n",
              "         'green': 1,\n",
              "         'had': 1,\n",
              "         'hath': 1,\n",
              "         'have': 4,\n",
              "         'he': 6,\n",
              "         'heaven': 4,\n",
              "         'heaven.': 1,\n",
              "         'heavens': 1,\n",
              "         'herb': 4,\n",
              "         'him;': 1,\n",
              "         'his': 9,\n",
              "         'image': 1,\n",
              "         'image,': 2,\n",
              "         'in': 13,\n",
              "         'is': 4,\n",
              "         'it': 15,\n",
              "         'it:': 1,\n",
              "         'itself,': 2,\n",
              "         'kind,': 6,\n",
              "         'kind:': 4,\n",
              "         'land': 2,\n",
              "         'lesser': 1,\n",
              "         'let': 6,\n",
              "         'life,': 2,\n",
              "         'light': 7,\n",
              "         'light,': 1,\n",
              "         'light.': 1,\n",
              "         'light:': 1,\n",
              "         'lights': 2,\n",
              "         'lights;': 1,\n",
              "         'likeness:': 1,\n",
              "         'living': 3,\n",
              "         'made': 4,\n",
              "         'made,': 1,\n",
              "         'make': 1,\n",
              "         'male': 1,\n",
              "         'man': 2,\n",
              "         'may': 1,\n",
              "         'meat.': 1,\n",
              "         'meat:': 1,\n",
              "         'midst': 1,\n",
              "         'morning': 6,\n",
              "         'moved': 1,\n",
              "         'moveth': 1,\n",
              "         'moveth,': 1,\n",
              "         'moving': 1,\n",
              "         'multiply': 1,\n",
              "         'multiply,': 2,\n",
              "         'night,': 1,\n",
              "         'night:': 1,\n",
              "         'night;': 1,\n",
              "         'of': 20,\n",
              "         'one': 1,\n",
              "         'open': 1,\n",
              "         'our': 2,\n",
              "         'over': 10,\n",
              "         'own': 1,\n",
              "         'place,': 1,\n",
              "         'replenish': 1,\n",
              "         'rule': 3,\n",
              "         'said': 1,\n",
              "         'said,': 9,\n",
              "         'saw': 7,\n",
              "         'saying,': 1,\n",
              "         'sea,': 2,\n",
              "         'seas,': 1,\n",
              "         'seasons,': 1,\n",
              "         'second': 1,\n",
              "         'seed': 3,\n",
              "         'seed,': 2,\n",
              "         'seed;': 1,\n",
              "         'set': 1,\n",
              "         'shall': 1,\n",
              "         'signs,': 1,\n",
              "         'sixth': 1,\n",
              "         'so.': 6,\n",
              "         'stars': 1,\n",
              "         'subdue': 1,\n",
              "         'that': 14,\n",
              "         'the': 108,\n",
              "         'their': 2,\n",
              "         'them': 4,\n",
              "         'them,': 3,\n",
              "         'them.': 1,\n",
              "         'there': 5,\n",
              "         'thing': 5,\n",
              "         'thing,': 1,\n",
              "         'third': 1,\n",
              "         'to': 11,\n",
              "         'together': 2,\n",
              "         'tree': 3,\n",
              "         'tree,': 1,\n",
              "         'two': 1,\n",
              "         'under': 2,\n",
              "         'unto': 2,\n",
              "         'upon': 10,\n",
              "         'us': 1,\n",
              "         'very': 1,\n",
              "         'void;': 1,\n",
              "         'was': 17,\n",
              "         'waters': 8,\n",
              "         'waters,': 1,\n",
              "         'waters.': 2,\n",
              "         'were': 8,\n",
              "         'whales,': 1,\n",
              "         'wherein': 1,\n",
              "         'which': 5,\n",
              "         'whose': 2,\n",
              "         'winged': 1,\n",
              "         'without': 1,\n",
              "         'years:': 1,\n",
              "         'yielding': 5,\n",
              "         'you': 2})"
            ]
          },
          "metadata": {
            "tags": []
          },
          "execution_count": 78
        }
      ]
    },
    {
      "cell_type": "code",
      "metadata": {
        "id": "fhbzHz7ExOIK",
        "outputId": "d395bd02-2808-47c2-9d86-e7a0bb7803f9",
        "colab": {
          "base_uri": "https://localhost:8080/",
          "height": 35
        }
      },
      "source": [
        "tokens[0]"
      ],
      "execution_count": 79,
      "outputs": [
        {
          "output_type": "execute_result",
          "data": {
            "application/vnd.google.colaboratory.intrinsic+json": {
              "type": "string"
            },
            "text/plain": [
              "'In'"
            ]
          },
          "metadata": {
            "tags": []
          },
          "execution_count": 79
        }
      ]
    },
    {
      "cell_type": "code",
      "metadata": {
        "id": "i-YBaHjlxcli",
        "outputId": "ada71375-ac82-4574-8827-123a53ad4ab6",
        "colab": {
          "base_uri": "https://localhost:8080/"
        }
      },
      "source": [
        "freq_dict['And']"
      ],
      "execution_count": 84,
      "outputs": [
        {
          "output_type": "execute_result",
          "data": {
            "text/plain": [
              "33"
            ]
          },
          "metadata": {
            "tags": []
          },
          "execution_count": 84
        }
      ]
    },
    {
      "cell_type": "code",
      "metadata": {
        "id": "QTz9A5-YxeYx",
        "outputId": "259b733c-750f-4f49-bfd4-b658ccbeca80",
        "colab": {
          "base_uri": "https://localhost:8080/"
        }
      },
      "source": [
        "freq_dict['God']"
      ],
      "execution_count": 85,
      "outputs": [
        {
          "output_type": "execute_result",
          "data": {
            "text/plain": [
              "32"
            ]
          },
          "metadata": {
            "tags": []
          },
          "execution_count": 85
        }
      ]
    },
    {
      "cell_type": "code",
      "metadata": {
        "id": "7RmGrsBRxwJh",
        "outputId": "13326ecf-f740-41c7-9fbc-88da7247a412",
        "colab": {
          "base_uri": "https://localhost:8080/"
        }
      },
      "source": [
        "freq_dict['And'] + freq_dict['and']"
      ],
      "execution_count": 86,
      "outputs": [
        {
          "output_type": "execute_result",
          "data": {
            "text/plain": [
              "96"
            ]
          },
          "metadata": {
            "tags": []
          },
          "execution_count": 86
        }
      ]
    },
    {
      "cell_type": "code",
      "metadata": {
        "id": "h5FnCtIWxzGp"
      },
      "source": [
        "freq_dict['And'] = 100"
      ],
      "execution_count": 87,
      "outputs": []
    },
    {
      "cell_type": "code",
      "metadata": {
        "id": "4LygZtY9x8PK",
        "outputId": "68d6a2fc-ff99-455d-f83c-08af349c6fab",
        "colab": {
          "base_uri": "https://localhost:8080/"
        }
      },
      "source": [
        "freq_dict['And']"
      ],
      "execution_count": 88,
      "outputs": [
        {
          "output_type": "execute_result",
          "data": {
            "text/plain": [
              "100"
            ]
          },
          "metadata": {
            "tags": []
          },
          "execution_count": 88
        }
      ]
    },
    {
      "cell_type": "code",
      "metadata": {
        "id": "2MZqIzG-x-nz"
      },
      "source": [
        "my_dictionary = {'apple': 10, 'pear': 5}"
      ],
      "execution_count": 89,
      "outputs": []
    },
    {
      "cell_type": "code",
      "metadata": {
        "id": "3K-9mvOCyLwk",
        "outputId": "226e8887-2df3-47fd-8755-bd6edd682502",
        "colab": {
          "base_uri": "https://localhost:8080/"
        }
      },
      "source": [
        "my_dictionary['apple']"
      ],
      "execution_count": 90,
      "outputs": [
        {
          "output_type": "execute_result",
          "data": {
            "text/plain": [
              "10"
            ]
          },
          "metadata": {
            "tags": []
          },
          "execution_count": 90
        }
      ]
    },
    {
      "cell_type": "code",
      "metadata": {
        "id": "KiTUC1FsyNi4"
      },
      "source": [
        "my_counter = {}\n",
        "for token in tokens:\n",
        "  if token in my_counter:\n",
        "    my_counter[token] = my_counter[token] + 1\n",
        "  else:\n",
        "    my_counter[token] = 1"
      ],
      "execution_count": 95,
      "outputs": []
    },
    {
      "cell_type": "code",
      "metadata": {
        "id": "Khdj0fymyXRI"
      },
      "source": [
        "#my_counter = {}\n",
        "#for token in tokens:\n",
        "#    my_counter[token] = my_counter[token] + 1\n",
        "\n",
        "from collections import defaultdict\n",
        "my_dcounter = defaultdict(int)\n",
        "for token in tokens:\n",
        "  my_dcounter[token] = my_dcounter[token] + 1"
      ],
      "execution_count": 98,
      "outputs": []
    },
    {
      "cell_type": "code",
      "metadata": {
        "id": "v4qqVJRmyaEx",
        "outputId": "00c64db8-5276-4f08-fa86-089ac0c80f8e",
        "colab": {
          "base_uri": "https://localhost:8080/"
        }
      },
      "source": [
        "my_dcounter"
      ],
      "execution_count": 99,
      "outputs": [
        {
          "output_type": "execute_result",
          "data": {
            "text/plain": [
              "defaultdict(int,\n",
              "            {'And': 33,\n",
              "             'Be': 2,\n",
              "             'Behold,': 1,\n",
              "             'Day,': 1,\n",
              "             'Earth;': 1,\n",
              "             'God': 32,\n",
              "             'Heaven.': 1,\n",
              "             'I': 2,\n",
              "             'In': 1,\n",
              "             'Let': 8,\n",
              "             'Night.': 1,\n",
              "             'Seas:': 1,\n",
              "             'So': 1,\n",
              "             'Spirit': 1,\n",
              "             'a': 2,\n",
              "             'above': 2,\n",
              "             'abundantly': 1,\n",
              "             'abundantly,': 1,\n",
              "             'after': 11,\n",
              "             'air,': 3,\n",
              "             'all': 2,\n",
              "             'also.': 1,\n",
              "             'and': 63,\n",
              "             'and,': 1,\n",
              "             'appear:': 1,\n",
              "             'be': 7,\n",
              "             'bearing': 1,\n",
              "             'beast': 3,\n",
              "             'beginning': 1,\n",
              "             'behold,': 1,\n",
              "             'blessed': 2,\n",
              "             'bring': 3,\n",
              "             'brought': 2,\n",
              "             'called': 5,\n",
              "             'cattle': 1,\n",
              "             'cattle,': 2,\n",
              "             'created': 5,\n",
              "             'creature': 3,\n",
              "             'creepeth': 3,\n",
              "             'creeping': 2,\n",
              "             'darkness': 2,\n",
              "             'darkness.': 1,\n",
              "             'darkness:': 1,\n",
              "             'day': 2,\n",
              "             'day,': 1,\n",
              "             'day.': 6,\n",
              "             'days,': 1,\n",
              "             'deep.': 1,\n",
              "             'divide': 3,\n",
              "             'divided': 2,\n",
              "             'dominion': 2,\n",
              "             'dry': 2,\n",
              "             'earth': 8,\n",
              "             'earth,': 6,\n",
              "             'earth.': 4,\n",
              "             'earth:': 2,\n",
              "             'evening': 6,\n",
              "             'every': 12,\n",
              "             'face': 3,\n",
              "             'female': 1,\n",
              "             'fifth': 1,\n",
              "             'fill': 1,\n",
              "             'firmament': 7,\n",
              "             'firmament,': 1,\n",
              "             'firmament:': 1,\n",
              "             'first': 1,\n",
              "             'fish': 2,\n",
              "             'fly': 1,\n",
              "             'for': 6,\n",
              "             'form,': 1,\n",
              "             'forth': 5,\n",
              "             'fourth': 1,\n",
              "             'fowl': 6,\n",
              "             'from': 5,\n",
              "             'fruit': 3,\n",
              "             'fruit,': 1,\n",
              "             'fruitful,': 2,\n",
              "             'gathered': 1,\n",
              "             'gathering': 1,\n",
              "             'give': 2,\n",
              "             'given': 2,\n",
              "             'good.': 6,\n",
              "             'good:': 1,\n",
              "             'grass,': 2,\n",
              "             'great': 2,\n",
              "             'greater': 1,\n",
              "             'green': 1,\n",
              "             'had': 1,\n",
              "             'hath': 1,\n",
              "             'have': 4,\n",
              "             'he': 6,\n",
              "             'heaven': 4,\n",
              "             'heaven.': 1,\n",
              "             'heavens': 1,\n",
              "             'herb': 4,\n",
              "             'him;': 1,\n",
              "             'his': 9,\n",
              "             'image': 1,\n",
              "             'image,': 2,\n",
              "             'in': 13,\n",
              "             'is': 4,\n",
              "             'it': 15,\n",
              "             'it:': 1,\n",
              "             'itself,': 2,\n",
              "             'kind,': 6,\n",
              "             'kind:': 4,\n",
              "             'land': 2,\n",
              "             'lesser': 1,\n",
              "             'let': 6,\n",
              "             'life,': 2,\n",
              "             'light': 7,\n",
              "             'light,': 1,\n",
              "             'light.': 1,\n",
              "             'light:': 1,\n",
              "             'lights': 2,\n",
              "             'lights;': 1,\n",
              "             'likeness:': 1,\n",
              "             'living': 3,\n",
              "             'made': 4,\n",
              "             'made,': 1,\n",
              "             'make': 1,\n",
              "             'male': 1,\n",
              "             'man': 2,\n",
              "             'may': 1,\n",
              "             'meat.': 1,\n",
              "             'meat:': 1,\n",
              "             'midst': 1,\n",
              "             'morning': 6,\n",
              "             'moved': 1,\n",
              "             'moveth': 1,\n",
              "             'moveth,': 1,\n",
              "             'moving': 1,\n",
              "             'multiply': 1,\n",
              "             'multiply,': 2,\n",
              "             'night,': 1,\n",
              "             'night:': 1,\n",
              "             'night;': 1,\n",
              "             'of': 20,\n",
              "             'one': 1,\n",
              "             'open': 1,\n",
              "             'our': 2,\n",
              "             'over': 10,\n",
              "             'own': 1,\n",
              "             'place,': 1,\n",
              "             'replenish': 1,\n",
              "             'rule': 3,\n",
              "             'said': 1,\n",
              "             'said,': 9,\n",
              "             'saw': 7,\n",
              "             'saying,': 1,\n",
              "             'sea,': 2,\n",
              "             'seas,': 1,\n",
              "             'seasons,': 1,\n",
              "             'second': 1,\n",
              "             'seed': 3,\n",
              "             'seed,': 2,\n",
              "             'seed;': 1,\n",
              "             'set': 1,\n",
              "             'shall': 1,\n",
              "             'signs,': 1,\n",
              "             'sixth': 1,\n",
              "             'so.': 6,\n",
              "             'stars': 1,\n",
              "             'subdue': 1,\n",
              "             'that': 14,\n",
              "             'the': 108,\n",
              "             'their': 2,\n",
              "             'them': 4,\n",
              "             'them,': 3,\n",
              "             'them.': 1,\n",
              "             'there': 5,\n",
              "             'thing': 5,\n",
              "             'thing,': 1,\n",
              "             'third': 1,\n",
              "             'to': 11,\n",
              "             'together': 2,\n",
              "             'tree': 3,\n",
              "             'tree,': 1,\n",
              "             'two': 1,\n",
              "             'under': 2,\n",
              "             'unto': 2,\n",
              "             'upon': 10,\n",
              "             'us': 1,\n",
              "             'very': 1,\n",
              "             'void;': 1,\n",
              "             'was': 17,\n",
              "             'waters': 8,\n",
              "             'waters,': 1,\n",
              "             'waters.': 2,\n",
              "             'were': 8,\n",
              "             'whales,': 1,\n",
              "             'wherein': 1,\n",
              "             'which': 5,\n",
              "             'whose': 2,\n",
              "             'winged': 1,\n",
              "             'without': 1,\n",
              "             'years:': 1,\n",
              "             'yielding': 5,\n",
              "             'you': 2})"
            ]
          },
          "metadata": {
            "tags": []
          },
          "execution_count": 99
        }
      ]
    },
    {
      "cell_type": "code",
      "metadata": {
        "id": "f3LDsuCHz7Lj",
        "outputId": "1abc843a-59ac-4d0e-c043-c6b2a60f7bdc",
        "colab": {
          "base_uri": "https://localhost:8080/",
          "height": 170
        }
      },
      "source": [
        "my_list"
      ],
      "execution_count": 100,
      "outputs": [
        {
          "output_type": "error",
          "ename": "NameError",
          "evalue": "ignored",
          "traceback": [
            "\u001b[0;31m---------------------------------------------------------------------------\u001b[0m",
            "\u001b[0;31mNameError\u001b[0m                                 Traceback (most recent call last)",
            "\u001b[0;32m<ipython-input-100-9af163499740>\u001b[0m in \u001b[0;36m<module>\u001b[0;34m()\u001b[0m\n\u001b[0;32m----> 1\u001b[0;31m \u001b[0mmy_list\u001b[0m\u001b[0;34m\u001b[0m\u001b[0;34m\u001b[0m\u001b[0m\n\u001b[0m",
            "\u001b[0;31mNameError\u001b[0m: name 'my_list' is not defined"
          ]
        }
      ]
    },
    {
      "cell_type": "code",
      "metadata": {
        "id": "0fJei1rA1IYy",
        "outputId": "efb69962-949d-4426-d111-324448e47393",
        "colab": {
          "base_uri": "https://localhost:8080/"
        }
      },
      "source": [
        "mylist"
      ],
      "execution_count": 101,
      "outputs": [
        {
          "output_type": "execute_result",
          "data": {
            "text/plain": [
              "['apple', 'pear', 'cherry']"
            ]
          },
          "metadata": {
            "tags": []
          },
          "execution_count": 101
        }
      ]
    },
    {
      "cell_type": "code",
      "metadata": {
        "id": "zW2SfQU71Jnj"
      },
      "source": [
        "mylist.append('tomato')"
      ],
      "execution_count": 102,
      "outputs": []
    },
    {
      "cell_type": "code",
      "metadata": {
        "id": "U0iIb5Xw1Ncv",
        "outputId": "cd51f21c-2a61-4554-9edb-394fec95535e",
        "colab": {
          "base_uri": "https://localhost:8080/"
        }
      },
      "source": [
        "mylist"
      ],
      "execution_count": 103,
      "outputs": [
        {
          "output_type": "execute_result",
          "data": {
            "text/plain": [
              "['apple', 'pear', 'cherry', 'tomato']"
            ]
          },
          "metadata": {
            "tags": []
          },
          "execution_count": 103
        }
      ]
    },
    {
      "cell_type": "code",
      "metadata": {
        "id": "C_G6ln731OLd"
      },
      "source": [
        "peoples_favourite_foods = dict()"
      ],
      "execution_count": 104,
      "outputs": []
    },
    {
      "cell_type": "code",
      "metadata": {
        "id": "xTht7SnR1U1q"
      },
      "source": [
        "peoples_favourite_foods['Rudolf'] = ['apples', 'bananas']"
      ],
      "execution_count": 105,
      "outputs": []
    },
    {
      "cell_type": "code",
      "metadata": {
        "id": "IeHIrwSD1Z7A"
      },
      "source": [
        "peoples_favourite_foods['Zdeněk'] = ['strawberries']"
      ],
      "execution_count": 106,
      "outputs": []
    },
    {
      "cell_type": "code",
      "metadata": {
        "id": "gEM0Ab6e1eTT",
        "outputId": "964423d3-b0a9-408f-8e70-ab2bb9bd63f7",
        "colab": {
          "base_uri": "https://localhost:8080/"
        }
      },
      "source": [
        "peoples_favourite_foods"
      ],
      "execution_count": 107,
      "outputs": [
        {
          "output_type": "execute_result",
          "data": {
            "text/plain": [
              "{'Rudolf': ['apples', 'bananas'], 'Zdeněk': ['strawberries']}"
            ]
          },
          "metadata": {
            "tags": []
          },
          "execution_count": 107
        }
      ]
    },
    {
      "cell_type": "code",
      "metadata": {
        "id": "HNbtbM2a1fkb"
      },
      "source": [
        "peoples_favourite_foods['Rudolf'].append('kiwi')"
      ],
      "execution_count": 108,
      "outputs": []
    },
    {
      "cell_type": "code",
      "metadata": {
        "id": "-1MOxPke1llF",
        "outputId": "b1964f8e-6d54-4cbd-e4da-dd30440c3acb",
        "colab": {
          "base_uri": "https://localhost:8080/"
        }
      },
      "source": [
        "peoples_favourite_foods['Rudolf']"
      ],
      "execution_count": 109,
      "outputs": [
        {
          "output_type": "execute_result",
          "data": {
            "text/plain": [
              "['apples', 'bananas', 'kiwi']"
            ]
          },
          "metadata": {
            "tags": []
          },
          "execution_count": 109
        }
      ]
    },
    {
      "cell_type": "code",
      "metadata": {
        "id": "ehQGIF1C1mVb"
      },
      "source": [
        ""
      ],
      "execution_count": null,
      "outputs": []
    }
  ]
}